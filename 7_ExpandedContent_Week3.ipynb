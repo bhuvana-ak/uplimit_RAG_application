{
  "cells": [
    {
      "cell_type": "markdown",
      "metadata": {
        "id": "view-in-github",
        "colab_type": "text"
      },
      "source": [
        "<a href=\"https://colab.research.google.com/github/bhuvana-ak/uplimit_RAG_application/blob/main/7_ExpandedContent_Week3.ipynb\" target=\"_parent\"><img src=\"https://colab.research.google.com/assets/colab-badge.svg\" alt=\"Open In Colab\"/></a>"
      ]
    },
    {
      "cell_type": "markdown",
      "id": "9b11bcbb-3763-4c0e-bd10-aac9aef50e09",
      "metadata": {
        "id": "9b11bcbb-3763-4c0e-bd10-aac9aef50e09"
      },
      "source": [
        "#### Week 3: Building Advanced RAG Applications.  Authored by Chris Sanchez.\n",
        "\n",
        "# Week 3 - Notebook 7 --> Context Enrichment\n",
        "\n",
        "# Background  \n",
        "---\n",
        "The background material for this topic/notebook is covered in the [Week 3 Course Content](https://uplimit.com/course/rag-applications/session/session_clzlsa20a01di197e4tij7vgm/module/module_clzlsa9a702cy1dm671cg0xr0) section titled **Context Enrichment**.  \n",
        "\n",
        "# Overview\n",
        "---\n",
        "The concept of Context Enrichment became popularized with the advent of LLMs that could reason over ever-increasing context window sizes. Prior to 2022 most open-source Reader models were limited to a 512 token context window. From a vector search perspective, adding the Context Enrichment technique to your toolbox allows the best of both worlds, because you can figure out which chunk size works best for your embedding model/reranker combo and then expand the retrieved text chunk with surrounding context so that the Reader LLM has the additional context it needs to answer the user query. Though not the only reason, this technique is partly why setting the chunk overlap parameter to zero (when chunking your text into sentences) is a good call.  \n",
        "\n",
        "This notebook will walk you through the process of creating an `expanded_content` field that you can add to an existing dataset, which can then be indexed onto your Weaviate cluster.\n",
        "- No need to create a new dataset, simpy use a prexisting dataset (i.e. `huberman_minilm_256.parquet`)\n",
        "- Group dataset episodes together by `video_id`.  Performing this step will ensure that all before and after text chunks are all from the same episode and there is no \"bleed-over\" into another episode.\n",
        "- Loop over each set of episode chunks and join pre-, current, and post- chunks together as a single string.  The window size can be set as a parameter.\n",
        "- Join each chunk to the original dataset as an additional `expanded_content` field.\n",
        "- Either index the new dataset on a new collection, or update an existing collection.  The properties file used to create the index schema on Weaviate already includes an `expanded_content` property."
      ]
    },
    {
      "cell_type": "code",
      "execution_count": 1,
      "id": "82ebd912-6b31-475e-86d9-4fac57cfcdcb",
      "metadata": {
        "id": "82ebd912-6b31-475e-86d9-4fac57cfcdcb"
      },
      "outputs": [],
      "source": [
        "import sys\n",
        "sys.path.append('../')"
      ]
    },
    {
      "cell_type": "code",
      "source": [
        "!pip install python-dotenv\n",
        "!pip install weaviate-client\n",
        "!pip install loguru --quiet\n",
        "!pip install tiktoken"
      ],
      "metadata": {
        "colab": {
          "base_uri": "https://localhost:8080/"
        },
        "id": "lJeKCWGRB-Y9",
        "outputId": "0d7f6bb2-41c0-440e-84bb-cd16e70d4bc1"
      },
      "id": "lJeKCWGRB-Y9",
      "execution_count": 18,
      "outputs": [
        {
          "output_type": "stream",
          "name": "stdout",
          "text": [
            "Requirement already satisfied: python-dotenv in /usr/local/lib/python3.10/dist-packages (1.0.1)\n",
            "Requirement already satisfied: weaviate-client in /usr/local/lib/python3.10/dist-packages (4.10.2)\n",
            "Requirement already satisfied: httpx<0.29.0,>=0.26.0 in /usr/local/lib/python3.10/dist-packages (from weaviate-client) (0.28.1)\n",
            "Requirement already satisfied: validators==0.34.0 in /usr/local/lib/python3.10/dist-packages (from weaviate-client) (0.34.0)\n",
            "Requirement already satisfied: authlib<1.3.2,>=1.2.1 in /usr/local/lib/python3.10/dist-packages (from weaviate-client) (1.3.1)\n",
            "Requirement already satisfied: pydantic<3.0.0,>=2.8.0 in /usr/local/lib/python3.10/dist-packages (from weaviate-client) (2.10.3)\n",
            "Requirement already satisfied: grpcio<2.0.0,>=1.66.2 in /usr/local/lib/python3.10/dist-packages (from weaviate-client) (1.68.1)\n",
            "Requirement already satisfied: grpcio-tools<2.0.0,>=1.66.2 in /usr/local/lib/python3.10/dist-packages (from weaviate-client) (1.68.1)\n",
            "Requirement already satisfied: grpcio-health-checking<2.0.0,>=1.66.2 in /usr/local/lib/python3.10/dist-packages (from weaviate-client) (1.68.1)\n",
            "Requirement already satisfied: cryptography in /usr/local/lib/python3.10/dist-packages (from authlib<1.3.2,>=1.2.1->weaviate-client) (43.0.3)\n",
            "Requirement already satisfied: protobuf<6.0dev,>=5.26.1 in /usr/local/lib/python3.10/dist-packages (from grpcio-health-checking<2.0.0,>=1.66.2->weaviate-client) (5.29.2)\n",
            "Requirement already satisfied: setuptools in /usr/local/lib/python3.10/dist-packages (from grpcio-tools<2.0.0,>=1.66.2->weaviate-client) (75.1.0)\n",
            "Requirement already satisfied: anyio in /usr/local/lib/python3.10/dist-packages (from httpx<0.29.0,>=0.26.0->weaviate-client) (3.7.1)\n",
            "Requirement already satisfied: certifi in /usr/local/lib/python3.10/dist-packages (from httpx<0.29.0,>=0.26.0->weaviate-client) (2024.12.14)\n",
            "Requirement already satisfied: httpcore==1.* in /usr/local/lib/python3.10/dist-packages (from httpx<0.29.0,>=0.26.0->weaviate-client) (1.0.7)\n",
            "Requirement already satisfied: idna in /usr/local/lib/python3.10/dist-packages (from httpx<0.29.0,>=0.26.0->weaviate-client) (3.10)\n",
            "Requirement already satisfied: h11<0.15,>=0.13 in /usr/local/lib/python3.10/dist-packages (from httpcore==1.*->httpx<0.29.0,>=0.26.0->weaviate-client) (0.14.0)\n",
            "Requirement already satisfied: annotated-types>=0.6.0 in /usr/local/lib/python3.10/dist-packages (from pydantic<3.0.0,>=2.8.0->weaviate-client) (0.7.0)\n",
            "Requirement already satisfied: pydantic-core==2.27.1 in /usr/local/lib/python3.10/dist-packages (from pydantic<3.0.0,>=2.8.0->weaviate-client) (2.27.1)\n",
            "Requirement already satisfied: typing-extensions>=4.12.2 in /usr/local/lib/python3.10/dist-packages (from pydantic<3.0.0,>=2.8.0->weaviate-client) (4.12.2)\n",
            "Requirement already satisfied: sniffio>=1.1 in /usr/local/lib/python3.10/dist-packages (from anyio->httpx<0.29.0,>=0.26.0->weaviate-client) (1.3.1)\n",
            "Requirement already satisfied: exceptiongroup in /usr/local/lib/python3.10/dist-packages (from anyio->httpx<0.29.0,>=0.26.0->weaviate-client) (1.2.2)\n",
            "Requirement already satisfied: cffi>=1.12 in /usr/local/lib/python3.10/dist-packages (from cryptography->authlib<1.3.2,>=1.2.1->weaviate-client) (1.17.1)\n",
            "Requirement already satisfied: pycparser in /usr/local/lib/python3.10/dist-packages (from cffi>=1.12->cryptography->authlib<1.3.2,>=1.2.1->weaviate-client) (2.22)\n",
            "Collecting tiktoken\n",
            "  Downloading tiktoken-0.8.0-cp310-cp310-manylinux_2_17_x86_64.manylinux2014_x86_64.whl.metadata (6.6 kB)\n",
            "Requirement already satisfied: regex>=2022.1.18 in /usr/local/lib/python3.10/dist-packages (from tiktoken) (2024.11.6)\n",
            "Requirement already satisfied: requests>=2.26.0 in /usr/local/lib/python3.10/dist-packages (from tiktoken) (2.32.3)\n",
            "Requirement already satisfied: charset-normalizer<4,>=2 in /usr/local/lib/python3.10/dist-packages (from requests>=2.26.0->tiktoken) (3.4.0)\n",
            "Requirement already satisfied: idna<4,>=2.5 in /usr/local/lib/python3.10/dist-packages (from requests>=2.26.0->tiktoken) (3.10)\n",
            "Requirement already satisfied: urllib3<3,>=1.21.1 in /usr/local/lib/python3.10/dist-packages (from requests>=2.26.0->tiktoken) (2.2.3)\n",
            "Requirement already satisfied: certifi>=2017.4.17 in /usr/local/lib/python3.10/dist-packages (from requests>=2.26.0->tiktoken) (2024.12.14)\n",
            "Downloading tiktoken-0.8.0-cp310-cp310-manylinux_2_17_x86_64.manylinux2014_x86_64.whl (1.2 MB)\n",
            "\u001b[2K   \u001b[90m━━━━━━━━━━━━━━━━━━━━━━━━━━━━━━━━━━━━━━━━\u001b[0m \u001b[32m1.2/1.2 MB\u001b[0m \u001b[31m9.5 MB/s\u001b[0m eta \u001b[36m0:00:00\u001b[0m\n",
            "\u001b[?25hInstalling collected packages: tiktoken\n",
            "Successfully installed tiktoken-0.8.0\n"
          ]
        }
      ]
    },
    {
      "cell_type": "code",
      "execution_count": 4,
      "id": "21d6c6cc-86a5-46ac-ad15-ddfe21331a0d",
      "metadata": {
        "id": "21d6c6cc-86a5-46ac-ad15-ddfe21331a0d"
      },
      "outputs": [],
      "source": [
        "from dotenv import load_dotenv, find_dotenv\n",
        "_ = load_dotenv(find_dotenv(), override=True)\n",
        "import os"
      ]
    },
    {
      "cell_type": "code",
      "source": [
        "!mkdir src\n",
        "!mkdir src/preprocessor\n",
        "!mkdir src/database\n"
      ],
      "metadata": {
        "id": "o7-qxag0CE8j"
      },
      "id": "o7-qxag0CE8j",
      "execution_count": 5,
      "outputs": []
    },
    {
      "cell_type": "code",
      "source": [
        "!curl -o src/preprocessor/preprocessing.py https://raw.githubusercontent.com/americanthinker/rag-applications/main/src/preprocessor/preprocessing.py\n",
        "!curl -o src/database/weaviate_interface_v4.py https://raw.githubusercontent.com/americanthinker/rag-applications/main/src/database/weaviate_interface_v4.py\n",
        "!curl -o src/database/properties_template.py https://raw.githubusercontent.com/americanthinker/rag-applications/main/src/database/properties_template.py"
      ],
      "metadata": {
        "colab": {
          "base_uri": "https://localhost:8080/"
        },
        "id": "amSkSQTACU_5",
        "outputId": "da52bc5b-60f8-488c-c9bd-089337e08420"
      },
      "id": "amSkSQTACU_5",
      "execution_count": 12,
      "outputs": [
        {
          "output_type": "stream",
          "name": "stdout",
          "text": [
            "  % Total    % Received % Xferd  Average Speed   Time    Time     Time  Current\n",
            "                                 Dload  Upload   Total   Spent    Left  Speed\n",
            "100  5501  100  5501    0     0  26581      0 --:--:-- --:--:-- --:--:-- 26703\n",
            "  % Total    % Received % Xferd  Average Speed   Time    Time     Time  Current\n",
            "                                 Dload  Upload   Total   Spent    Left  Speed\n",
            "100 21404  100 21404    0     0  94771      0 --:--:-- --:--:-- --:--:-- 95128\n",
            "  % Total    % Received % Xferd  Average Speed   Time    Time     Time  Current\n",
            "                                 Dload  Upload   Total   Spent    Left  Speed\n",
            "100  3655  100  3655    0     0   7052      0 --:--:-- --:--:-- --:--:--  7042\n"
          ]
        }
      ]
    },
    {
      "cell_type": "code",
      "execution_count": 19,
      "id": "97a9ba7a-2fde-4625-a963-c37335270d5c",
      "metadata": {
        "id": "97a9ba7a-2fde-4625-a963-c37335270d5c"
      },
      "outputs": [],
      "source": [
        "from src.database.properties_template import properties\n",
        "from src.database.weaviate_interface_v4 import WeaviateWCS\n",
        "from src.preprocessor.preprocessing import FileIO\n",
        "from sentence_transformers import SentenceTransformer\n",
        "from rich import print\n",
        "from tqdm import tqdm\n",
        "import tiktoken"
      ]
    },
    {
      "cell_type": "markdown",
      "id": "014acbc2-478d-404d-918f-639ec5fd2b76",
      "metadata": {
        "id": "014acbc2-478d-404d-918f-639ec5fd2b76"
      },
      "source": [
        "### Load Data\n",
        "No need to create a new dataset, simply use the data that you already have."
      ]
    },
    {
      "cell_type": "code",
      "execution_count": 22,
      "id": "a649a419-30a9-48bc-b13d-df872af711c6",
      "metadata": {
        "colab": {
          "base_uri": "https://localhost:8080/"
        },
        "id": "a649a419-30a9-48bc-b13d-df872af711c6",
        "outputId": "ec59e482-77b4-48ee-d153-37524adee372"
      },
      "outputs": [
        {
          "output_type": "stream",
          "name": "stdout",
          "text": [
            "Shape of data: (23123, 13)\n",
            "Memory Usage: 2.29+ MB\n"
          ]
        }
      ],
      "source": [
        "data_path = \"/content/huberman-minilmL6-256.parquet\"\n",
        "data = FileIO.load_parquet(data_path)"
      ]
    },
    {
      "cell_type": "markdown",
      "id": "266d1b3c-b6ca-4c80-9006-838b10890788",
      "metadata": {
        "id": "266d1b3c-b6ca-4c80-9006-838b10890788"
      },
      "source": [
        "### Create Expanded Content"
      ]
    },
    {
      "cell_type": "code",
      "execution_count": 23,
      "id": "039f0afd-690f-465c-b34f-e236bdf29ca7",
      "metadata": {
        "id": "039f0afd-690f-465c-b34f-e236bdf29ca7"
      },
      "outputs": [],
      "source": [
        "from itertools import groupby\n",
        "\n",
        "def groupby_episode(data: list[dict], key_field: str='video_id') -> list[list[dict]]:\n",
        "    '''\n",
        "    Separates entire podcast corpus into individual\n",
        "    lists of discrete episodes.\n",
        "    '''\n",
        "    episodes = []\n",
        "    for _, group in groupby(data, lambda x: x[key_field]):\n",
        "        episode = [chunk for chunk in group]\n",
        "        episodes.append(episode)\n",
        "    return episodes"
      ]
    },
    {
      "cell_type": "code",
      "execution_count": 24,
      "id": "850f8a51-36c0-4266-98c1-e5720de44dd7",
      "metadata": {
        "id": "850f8a51-36c0-4266-98c1-e5720de44dd7"
      },
      "outputs": [],
      "source": [
        "def create_expanded_content(data: list[dict] | list[list[str]],\n",
        "                            window_size: int=1,\n",
        "                            num_episodes: int=193,\n",
        "                            key_field: str='video_id'\n",
        "                            ) -> list[list[str]]:\n",
        "    '''\n",
        "    Creates expanded content from original chunks of text, for use with\n",
        "    expanded content retrieval.  Takes in raw data as a list of dictionaries\n",
        "    or accepts a list of chunked episodes already grouped.\n",
        "\n",
        "    Window size sets the number of chunks before and after the original chunk.\n",
        "    For example a window_size of 2 will return five joined chunks.  2 chunks\n",
        "    before original chunk, the original, and 2 chunks after the original.\n",
        "\n",
        "    Expanded content is grouped by podcast episode, and chunks are assumed\n",
        "    to be kept in order by which they will be joined as metadata in follow-on\n",
        "    processing.\n",
        "    '''\n",
        "    # check if dictionaries or already grouped episodes is being passed in\n",
        "    if isinstance(data[0], dict):\n",
        "        # groupby data into episodes using video_id key\n",
        "        episodes = groupby_episode(data, key_field)\n",
        "        assert len(episodes) == num_episodes, f'Number of grouped episodes does not equal num_episodes ({len(episodes)} != {num_episodes})'\n",
        "\n",
        "        # extract content field and ensure episodes maintain their grouping\n",
        "        chunk_list = [[d['content'] for d in alist] for alist in episodes]\n",
        "\n",
        "    expanded_contents = []\n",
        "    for episode in tqdm(chunk_list):\n",
        "        episode_container = []\n",
        "        for i, chunk in enumerate(episode):\n",
        "            start = max(0, i-window_size)\n",
        "            end = i+window_size+1\n",
        "            expanded_content = ' '.join(episode[start:end])\n",
        "            episode_container.append(expanded_content)\n",
        "        expanded_contents.append(episode_container)\n",
        "    return expanded_contents"
      ]
    },
    {
      "cell_type": "markdown",
      "id": "abfd792d-e257-455a-998f-e4ae9262891a",
      "metadata": {
        "id": "abfd792d-e257-455a-998f-e4ae9262891a"
      },
      "source": [
        "# Assignment 3.1 -\n",
        "***\n",
        "#### *Create Expanded Content chunks and join them to existing data*\n",
        "\n",
        "#### INSTRUCTIONS\n",
        "1. Execute the `create_expanded_content` function.  Depending on your chunk size, it is likely best to use the default window size of 1.  Meaning, 1 chunk of text will be added before and after the original text chunk, for a total of three chunks for each `expanded_content` field.\n",
        "2. Assuming you are going to join the data back to the original dataset from which it came, you'll need to flatten out the list of episode into a single list of text chunks.\n",
        "3. Write a function that updates your original dataset with the new expanded content by updating the dataset with an `expanded_content` key."
      ]
    },
    {
      "cell_type": "code",
      "execution_count": 26,
      "id": "022f2d97-56f6-4596-bb53-222c3bb020b7",
      "metadata": {
        "colab": {
          "base_uri": "https://localhost:8080/"
        },
        "id": "022f2d97-56f6-4596-bb53-222c3bb020b7",
        "outputId": "fc15d11e-300e-41eb-fc21-4a98a075b356"
      },
      "outputs": [
        {
          "output_type": "stream",
          "name": "stderr",
          "text": [
            "100%|██████████| 193/193 [00:00<00:00, 2473.53it/s]\n"
          ]
        }
      ],
      "source": [
        "########################\n",
        "# START YOUR CODE HERE #\n",
        "########################\n",
        "\n",
        "def flatten(to_flatten: list[list[str]]) -> list[str]:\n",
        "    flattened = []\n",
        "\n",
        "    for level1 in to_flatten:\n",
        "        for level2 in level1:\n",
        "            flattened.append(level2)\n",
        "\n",
        "    return flattened\n",
        "\n",
        "expanded_content = create_expanded_content(data)\n",
        "flattened_content = flatten(expanded_content)\n",
        "\n",
        "# azimuth check to ensure you're heading in the right direction\n",
        "flat_length = len(flattened_content)\n",
        "data_length = len(data)\n",
        "assert flat_length == data_length, 'Mismatch in lengths. Double check how you flattened your expanded_content'\n",
        "\n",
        "def join_expanded_content(data: list[dict],\n",
        "                          flattened_content: list[list[str]],\n",
        "                          new_key: str = 'expanded_content'\n",
        "                          ) -> list[dict]:\n",
        "    '''\n",
        "    Updates data with an expanded_content key.\n",
        "    '''\n",
        "\n",
        "########################\n",
        "# END YOUR CODE HERE #\n",
        "########################\n",
        "    for i, chunk in enumerate(data):\n",
        "        chunk[new_key] = flattened_content[i]\n",
        "\n",
        "    return data\n",
        "\n",
        "data = join_expanded_content(data, flattened_content)"
      ]
    },
    {
      "cell_type": "markdown",
      "id": "1501aadc-1843-4e23-b706-2a54c19677f4",
      "metadata": {
        "id": "1501aadc-1843-4e23-b706-2a54c19677f4"
      },
      "source": [
        "#### After executing the above function, run the following cells as a post-check"
      ]
    },
    {
      "cell_type": "code",
      "execution_count": 27,
      "id": "8cc86127-1cf9-4f4b-bf59-3b83ef266cf2",
      "metadata": {
        "colab": {
          "base_uri": "https://localhost:8080/",
          "height": 347
        },
        "id": "8cc86127-1cf9-4f4b-bf59-3b83ef266cf2",
        "outputId": "dcf6fdad-37b8-4dd1-fbfb-fe67c2090d68"
      },
      "outputs": [
        {
          "output_type": "display_data",
          "data": {
            "text/plain": [
              "Welcome to the Huberman Lab guest series, where I and an expert guest discuss science and science-based tools for \n",
              "everyday life. I'm Andrew Huberman, and I'm a professor of neurobiology and ophthalmology at Stanford School of \n",
              "Medicine. Today's episode marks the first in our six-episode series all about sleep. Our expert guest for this \n",
              "series is Dr. Matthew Walker, professor of neuroscience and psychology and the director of the Center for Sleep \n",
              "Science at the University of California, Berkeley. He is also the author of the bestselling book, Why We Sleep. \n",
              "During the course of the six-episode series, for which we release one episode per week, starting with this episode \n",
              "one, we cover essentially all aspects of sleep and provide numerous practical tools to improve your sleep. For \n",
              "instance, we discuss the biology of sleep, including the different sleep stages, as well as why sleep is so \n",
              "important for our mental and physical health. We also talk about how sleep regulates things like emotionality and \n",
              "learning and neuroplasticity, that is your brain's ability to change in response to experience. And we discuss the \n",
              "various things that you can do to improve your sleep. Everything from how to time lighting, temperature, exercise, \n",
              "eating, and the various things that can impact sleep both positively and negatively, such as alcohol, cannabis, and\n",
              "various supplements and drugs that have been shown to improve sleep. We also talk about naps, dreaming and the role\n",
              "of dreams, and lucid dreaming, which is when you dream and you are aware that you are dreaming. In today's episode \n",
              "one, we specifically focus on why sleep is so important and what happens when we do not get enough sleep or enough \n",
              "quality sleep. We also talk about the various sleep stages, and we also talk about a very specific formula that \n",
              "everyone should know for themselves called QQRT, which is an acronym that stands for quality, quantity, regularity,\n",
              "and timing of sleep. Four factors which today you'll learn how to identify specifically for you what your optimal \n",
              "QQRT is, and then to apply that in order to get the best possible night's sleep, which of course equates to the \n",
              "best possible level of focus and alertness throughout your days. Both Dr.\n"
            ],
            "text/html": [
              "<pre style=\"white-space:pre;overflow-x:auto;line-height:normal;font-family:Menlo,'DejaVu Sans Mono',consolas,'Courier New',monospace\">Welcome to the Huberman Lab guest series, where I and an expert guest discuss science and science-based tools for \n",
              "everyday life. I'm Andrew Huberman, and I'm a professor of neurobiology and ophthalmology at Stanford School of \n",
              "Medicine. Today's episode marks the first in our six-episode series all about sleep. Our expert guest for this \n",
              "series is Dr. Matthew Walker, professor of neuroscience and psychology and the director of the Center for Sleep \n",
              "Science at the University of California, Berkeley. He is also the author of the bestselling book, Why We Sleep. \n",
              "During the course of the six-episode series, for which we release one episode per week, starting with this episode \n",
              "one, we cover essentially all aspects of sleep and provide numerous practical tools to improve your sleep. For \n",
              "instance, we discuss the biology of sleep, including the different sleep stages, as well as why sleep is so \n",
              "important for our mental and physical health. We also talk about how sleep regulates things like emotionality and \n",
              "learning and neuroplasticity, that is your brain's ability to change in response to experience. And we discuss the \n",
              "various things that you can do to improve your sleep. Everything from how to time lighting, temperature, exercise, \n",
              "eating, and the various things that can impact sleep both positively and negatively, such as alcohol, cannabis, and\n",
              "various supplements and drugs that have been shown to improve sleep. We also talk about naps, dreaming and the role\n",
              "of dreams, and lucid dreaming, which is when you dream and you are aware that you are dreaming. In today's episode \n",
              "one, we specifically focus on why sleep is so important and what happens when we do not get enough sleep or enough \n",
              "quality sleep. We also talk about the various sleep stages, and we also talk about a very specific formula that \n",
              "everyone should know for themselves called QQRT, which is an acronym that stands for quality, quantity, regularity,\n",
              "and timing of sleep. Four factors which today you'll learn how to identify specifically for you what your optimal \n",
              "QQRT is, and then to apply that in order to get the best possible night's sleep, which of course equates to the \n",
              "best possible level of focus and alertness throughout your days. Both Dr.\n",
              "</pre>\n"
            ]
          },
          "metadata": {}
        }
      ],
      "source": [
        "#ensure all expanded content fields are present\n",
        "for d in data:\n",
        "    assert d.get('expanded_content', -1) != -1\n",
        "\n",
        "#compare your initial result with the following cell\n",
        "print(data[0]['expanded_content'])"
      ]
    },
    {
      "cell_type": "markdown",
      "id": "e042e44c-2aaa-48fc-af89-776d416a471a",
      "metadata": {
        "id": "e042e44c-2aaa-48fc-af89-776d416a471a"
      },
      "source": [
        "<details>\n",
        "    <summary>\n",
        "        Click to compare your results from the cell above with the following:\n",
        "</summary>  \n",
        "    \n",
        "```\n",
        "\"Welcome to the Huberman Lab guest series, where I and an expert guest discuss science and science-based tools for everyday life. I'm Andrew Huberman, and I'm a professor of neurobiology and ophthalmology at Stanford School of Medicine. Today's episode marks the first in our six-episode series all about sleep. Our expert guest for this series is Dr. Matthew Walker, professor of neuroscience and psychology and the director of the Center for Sleep Science at the University of California, Berkeley. He is also the author of the bestselling book, Why We Sleep. During the course of the six-episode series, for which we release one episode per week, starting with this episode one, we cover essentially all aspects of sleep and provide numerous practical tools to improve your sleep. For instance, we discuss the biology of sleep, including the different sleep stages, as well as why sleep is so important for our mental and physical health. We also talk about how sleep regulates things like emotionality and learning and neuroplasticity, that is your brain's ability to change in response to experience. And we discuss the various things that you can do to improve your sleep. Everything from how to time lighting, temperature, exercise, eating, and the various things that can impact sleep both positively and negatively, such as alcohol, cannabis, and various supplements and drugs that have been shown to improve sleep. We also talk about naps, dreaming and the role of dreams, and lucid dreaming, which is when you dream and you are aware that you are dreaming. In today's episode one, we specifically focus on why sleep is so important and what happens when we do not get enough sleep or enough quality sleep. We also talk about the various sleep stages, and we also talk about a very specific formula that everyone should know for themselves called QQRT, which is an acronym that stands for quality, quantity, regularity, and timing of sleep. Four factors which today you'll learn how to identify specifically for you what your optimal QQRT is, and then to apply that in order to get the best possible night's sleep, which of course equates to the best possible level of focus and alertness throughout your days. Both Dr.\"\n",
        "```\n",
        "</details>"
      ]
    },
    {
      "cell_type": "markdown",
      "id": "7e417972-3a16-4236-b3af-4056c62eefc3",
      "metadata": {
        "id": "7e417972-3a16-4236-b3af-4056c62eefc3"
      },
      "source": [
        "### Index the Data\n",
        "---\n",
        "You have two options here:\n",
        "1. Easy way: Simply index the data on a new Collection.\n",
        "2. Hard way: Read all existing uuids on current Collection and update each object by linking the doc_ids.\n",
        "\n",
        "As mentioned earlier, the `expanded_content` property is already part of the index configuration of properties.  See the last property entry after printing the `properties` variable:"
      ]
    },
    {
      "cell_type": "code",
      "execution_count": 28,
      "id": "93deae35-08b2-4eec-b8da-7e6743f83db6",
      "metadata": {
        "colab": {
          "base_uri": "https://localhost:8080/",
          "height": 1000
        },
        "id": "93deae35-08b2-4eec-b8da-7e6743f83db6",
        "outputId": "172cb302-fcaa-4ab1-d9af-e9d7f3ae03b4"
      },
      "outputs": [
        {
          "output_type": "display_data",
          "data": {
            "text/plain": [
              "\u001b[1m[\u001b[0m\n",
              "    \u001b[1;35mProperty\u001b[0m\u001b[1m(\u001b[0m\n",
              "        \u001b[33mname\u001b[0m=\u001b[32m'video_id'\u001b[0m,\n",
              "        \u001b[33mdataType\u001b[0m=\u001b[1m<\u001b[0m\u001b[1;95mDataType.TEXT:\u001b[0m\u001b[39m \u001b[0m\u001b[32m'text'\u001b[0m\u001b[39m>,\u001b[0m\n",
              "\u001b[39m        \u001b[0m\u001b[33mdescription\u001b[0m\u001b[39m=\u001b[0m\u001b[32m'Unique identifier of the video episode'\u001b[0m\u001b[39m,\u001b[0m\n",
              "\u001b[39m        \u001b[0m\u001b[33mindexFilterable\u001b[0m\u001b[39m=\u001b[0m\u001b[3;92mTrue\u001b[0m\u001b[39m,\u001b[0m\n",
              "\u001b[39m        \u001b[0m\u001b[33mindexSearchable\u001b[0m\u001b[39m=\u001b[0m\u001b[3;91mFalse\u001b[0m\u001b[39m,\u001b[0m\n",
              "\u001b[39m        \u001b[0m\u001b[33mindexRangeFilters\u001b[0m\u001b[39m=\u001b[0m\u001b[3;35mNone\u001b[0m\u001b[39m,\u001b[0m\n",
              "\u001b[39m        \u001b[0m\u001b[33mnestedProperties\u001b[0m\u001b[39m=\u001b[0m\u001b[3;35mNone\u001b[0m\u001b[39m,\u001b[0m\n",
              "\u001b[39m        \u001b[0m\u001b[33mskip_vectorization\u001b[0m\u001b[39m=\u001b[0m\u001b[3;91mFalse\u001b[0m\u001b[39m,\u001b[0m\n",
              "\u001b[39m        \u001b[0m\u001b[33mtokenization\u001b[0m\u001b[39m=\u001b[0m\u001b[3;35mNone\u001b[0m\u001b[39m,\u001b[0m\n",
              "\u001b[39m        \u001b[0m\u001b[33mvectorize_property_name\u001b[0m\u001b[39m=\u001b[0m\u001b[3;92mTrue\u001b[0m\n",
              "\u001b[39m    \u001b[0m\u001b[1;39m)\u001b[0m\u001b[39m,\u001b[0m\n",
              "\u001b[39m    \u001b[0m\u001b[1;35mProperty\u001b[0m\u001b[1;39m(\u001b[0m\n",
              "\u001b[39m        \u001b[0m\u001b[33mname\u001b[0m\u001b[39m=\u001b[0m\u001b[32m'title'\u001b[0m\u001b[39m,\u001b[0m\n",
              "\u001b[39m        \u001b[0m\u001b[33mdataType\u001b[0m\u001b[39m=<DataType.TEXT: \u001b[0m\u001b[32m'text'\u001b[0m\u001b[39m>,\u001b[0m\n",
              "\u001b[39m        \u001b[0m\u001b[33mdescription\u001b[0m\u001b[39m=\u001b[0m\u001b[32m'Title of the video episode'\u001b[0m\u001b[39m,\u001b[0m\n",
              "\u001b[39m        \u001b[0m\u001b[33mindexFilterable\u001b[0m\u001b[39m=\u001b[0m\u001b[3;92mTrue\u001b[0m\u001b[39m,\u001b[0m\n",
              "\u001b[39m        \u001b[0m\u001b[33mindexSearchable\u001b[0m\u001b[39m=\u001b[0m\u001b[3;92mTrue\u001b[0m\u001b[39m,\u001b[0m\n",
              "\u001b[39m        \u001b[0m\u001b[33mindexRangeFilters\u001b[0m\u001b[39m=\u001b[0m\u001b[3;35mNone\u001b[0m\u001b[39m,\u001b[0m\n",
              "\u001b[39m        \u001b[0m\u001b[33mnestedProperties\u001b[0m\u001b[39m=\u001b[0m\u001b[3;35mNone\u001b[0m\u001b[39m,\u001b[0m\n",
              "\u001b[39m        \u001b[0m\u001b[33mskip_vectorization\u001b[0m\u001b[39m=\u001b[0m\u001b[3;91mFalse\u001b[0m\u001b[39m,\u001b[0m\n",
              "\u001b[39m        \u001b[0m\u001b[33mtokenization\u001b[0m\u001b[39m=\u001b[0m\u001b[3;35mNone\u001b[0m\u001b[39m,\u001b[0m\n",
              "\u001b[39m        \u001b[0m\u001b[33mvectorize_property_name\u001b[0m\u001b[39m=\u001b[0m\u001b[3;92mTrue\u001b[0m\n",
              "\u001b[39m    \u001b[0m\u001b[1;39m)\u001b[0m\u001b[39m,\u001b[0m\n",
              "\u001b[39m    \u001b[0m\u001b[1;35mProperty\u001b[0m\u001b[1;39m(\u001b[0m\n",
              "\u001b[39m        \u001b[0m\u001b[33mname\u001b[0m\u001b[39m=\u001b[0m\u001b[32m'length_seconds'\u001b[0m\u001b[39m,\u001b[0m\n",
              "\u001b[39m        \u001b[0m\u001b[33mdataType\u001b[0m\u001b[39m=<DataType.INT: \u001b[0m\u001b[32m'int'\u001b[0m\u001b[39m>,\u001b[0m\n",
              "\u001b[39m        \u001b[0m\u001b[33mdescription\u001b[0m\u001b[39m=\u001b[0m\u001b[32m'Length of the video episode in seconds'\u001b[0m\u001b[39m,\u001b[0m\n",
              "\u001b[39m        \u001b[0m\u001b[33mindexFilterable\u001b[0m\u001b[39m=\u001b[0m\u001b[3;92mTrue\u001b[0m\u001b[39m,\u001b[0m\n",
              "\u001b[39m        \u001b[0m\u001b[33mindexSearchable\u001b[0m\u001b[39m=\u001b[0m\u001b[3;91mFalse\u001b[0m\u001b[39m,\u001b[0m\n",
              "\u001b[39m        \u001b[0m\u001b[33mindexRangeFilters\u001b[0m\u001b[39m=\u001b[0m\u001b[3;35mNone\u001b[0m\u001b[39m,\u001b[0m\n",
              "\u001b[39m        \u001b[0m\u001b[33mnestedProperties\u001b[0m\u001b[39m=\u001b[0m\u001b[3;35mNone\u001b[0m\u001b[39m,\u001b[0m\n",
              "\u001b[39m        \u001b[0m\u001b[33mskip_vectorization\u001b[0m\u001b[39m=\u001b[0m\u001b[3;91mFalse\u001b[0m\u001b[39m,\u001b[0m\n",
              "\u001b[39m        \u001b[0m\u001b[33mtokenization\u001b[0m\u001b[39m=\u001b[0m\u001b[3;35mNone\u001b[0m\u001b[39m,\u001b[0m\n",
              "\u001b[39m        \u001b[0m\u001b[33mvectorize_property_name\u001b[0m\u001b[39m=\u001b[0m\u001b[3;92mTrue\u001b[0m\n",
              "\u001b[39m    \u001b[0m\u001b[1;39m)\u001b[0m\u001b[39m,\u001b[0m\n",
              "\u001b[39m    \u001b[0m\u001b[1;35mProperty\u001b[0m\u001b[1;39m(\u001b[0m\n",
              "\u001b[39m        \u001b[0m\u001b[33mname\u001b[0m\u001b[39m=\u001b[0m\u001b[32m'thumbnail_url'\u001b[0m\u001b[39m,\u001b[0m\n",
              "\u001b[39m        \u001b[0m\u001b[33mdataType\u001b[0m\u001b[39m=<DataType.TEXT: \u001b[0m\u001b[32m'text'\u001b[0m\u001b[39m>,\u001b[0m\n",
              "\u001b[39m        \u001b[0m\u001b[33mdescription\u001b[0m\u001b[39m=\u001b[0m\u001b[32m'URL of the video episode thumbnail picture'\u001b[0m\u001b[39m,\u001b[0m\n",
              "\u001b[39m        \u001b[0m\u001b[33mindexFilterable\u001b[0m\u001b[39m=\u001b[0m\u001b[3;91mFalse\u001b[0m\u001b[39m,\u001b[0m\n",
              "\u001b[39m        \u001b[0m\u001b[33mindexSearchable\u001b[0m\u001b[39m=\u001b[0m\u001b[3;91mFalse\u001b[0m\u001b[39m,\u001b[0m\n",
              "\u001b[39m        \u001b[0m\u001b[33mindexRangeFilters\u001b[0m\u001b[39m=\u001b[0m\u001b[3;35mNone\u001b[0m\u001b[39m,\u001b[0m\n",
              "\u001b[39m        \u001b[0m\u001b[33mnestedProperties\u001b[0m\u001b[39m=\u001b[0m\u001b[3;35mNone\u001b[0m\u001b[39m,\u001b[0m\n",
              "\u001b[39m        \u001b[0m\u001b[33mskip_vectorization\u001b[0m\u001b[39m=\u001b[0m\u001b[3;91mFalse\u001b[0m\u001b[39m,\u001b[0m\n",
              "\u001b[39m        \u001b[0m\u001b[33mtokenization\u001b[0m\u001b[39m=\u001b[0m\u001b[3;35mNone\u001b[0m\u001b[39m,\u001b[0m\n",
              "\u001b[39m        \u001b[0m\u001b[33mvectorize_property_name\u001b[0m\u001b[39m=\u001b[0m\u001b[3;92mTrue\u001b[0m\n",
              "\u001b[39m    \u001b[0m\u001b[1;39m)\u001b[0m\u001b[39m,\u001b[0m\n",
              "\u001b[39m    \u001b[0m\u001b[1;35mProperty\u001b[0m\u001b[1;39m(\u001b[0m\n",
              "\u001b[39m        \u001b[0m\u001b[33mname\u001b[0m\u001b[39m=\u001b[0m\u001b[32m'keywords'\u001b[0m\u001b[39m,\u001b[0m\n",
              "\u001b[39m        \u001b[0m\u001b[33mdataType\u001b[0m\u001b[39m=<DataType.TEXT_ARRAY: \u001b[0m\u001b[32m'text\u001b[0m\u001b[32m[\u001b[0m\u001b[32m]\u001b[0m\u001b[32m'\u001b[0m\u001b[39m>,\u001b[0m\n",
              "\u001b[39m        \u001b[0m\u001b[33mdescription\u001b[0m\u001b[39m=\u001b[0m\u001b[32m'Keywords associated with the video episode'\u001b[0m\u001b[39m,\u001b[0m\n",
              "\u001b[39m        \u001b[0m\u001b[33mindexFilterable\u001b[0m\u001b[39m=\u001b[0m\u001b[3;92mTrue\u001b[0m\u001b[39m,\u001b[0m\n",
              "\u001b[39m        \u001b[0m\u001b[33mindexSearchable\u001b[0m\u001b[39m=\u001b[0m\u001b[3;92mTrue\u001b[0m\u001b[39m,\u001b[0m\n",
              "\u001b[39m        \u001b[0m\u001b[33mindexRangeFilters\u001b[0m\u001b[39m=\u001b[0m\u001b[3;35mNone\u001b[0m\u001b[39m,\u001b[0m\n",
              "\u001b[39m        \u001b[0m\u001b[33mnestedProperties\u001b[0m\u001b[39m=\u001b[0m\u001b[3;35mNone\u001b[0m\u001b[39m,\u001b[0m\n",
              "\u001b[39m        \u001b[0m\u001b[33mskip_vectorization\u001b[0m\u001b[39m=\u001b[0m\u001b[3;91mFalse\u001b[0m\u001b[39m,\u001b[0m\n",
              "\u001b[39m        \u001b[0m\u001b[33mtokenization\u001b[0m\u001b[39m=\u001b[0m\u001b[3;35mNone\u001b[0m\u001b[39m,\u001b[0m\n",
              "\u001b[39m        \u001b[0m\u001b[33mvectorize_property_name\u001b[0m\u001b[39m=\u001b[0m\u001b[3;92mTrue\u001b[0m\n",
              "\u001b[39m    \u001b[0m\u001b[1;39m)\u001b[0m\u001b[39m,\u001b[0m\n",
              "\u001b[39m    \u001b[0m\u001b[1;35mProperty\u001b[0m\u001b[1;39m(\u001b[0m\n",
              "\u001b[39m        \u001b[0m\u001b[33mname\u001b[0m\u001b[39m=\u001b[0m\u001b[32m'summary'\u001b[0m\u001b[39m,\u001b[0m\n",
              "\u001b[39m        \u001b[0m\u001b[33mdataType\u001b[0m\u001b[39m=<DataType.TEXT: \u001b[0m\u001b[32m'text'\u001b[0m\u001b[39m>,\u001b[0m\n",
              "\u001b[39m        \u001b[0m\u001b[33mdescription\u001b[0m\u001b[39m=\u001b[0m\u001b[32m'Short summary of the episode content'\u001b[0m\u001b[39m,\u001b[0m\n",
              "\u001b[39m        \u001b[0m\u001b[33mindexFilterable\u001b[0m\u001b[39m=\u001b[0m\u001b[3;91mFalse\u001b[0m\u001b[39m,\u001b[0m\n",
              "\u001b[39m        \u001b[0m\u001b[33mindexSearchable\u001b[0m\u001b[39m=\u001b[0m\u001b[3;92mTrue\u001b[0m\u001b[39m,\u001b[0m\n",
              "\u001b[39m        \u001b[0m\u001b[33mindexRangeFilters\u001b[0m\u001b[39m=\u001b[0m\u001b[3;35mNone\u001b[0m\u001b[39m,\u001b[0m\n",
              "\u001b[39m        \u001b[0m\u001b[33mnestedProperties\u001b[0m\u001b[39m=\u001b[0m\u001b[3;35mNone\u001b[0m\u001b[39m,\u001b[0m\n",
              "\u001b[39m        \u001b[0m\u001b[33mskip_vectorization\u001b[0m\u001b[39m=\u001b[0m\u001b[3;91mFalse\u001b[0m\u001b[39m,\u001b[0m\n",
              "\u001b[39m        \u001b[0m\u001b[33mtokenization\u001b[0m\u001b[39m=\u001b[0m\u001b[3;35mNone\u001b[0m\u001b[39m,\u001b[0m\n",
              "\u001b[39m        \u001b[0m\u001b[33mvectorize_property_name\u001b[0m\u001b[39m=\u001b[0m\u001b[3;92mTrue\u001b[0m\n",
              "\u001b[39m    \u001b[0m\u001b[1;39m)\u001b[0m\u001b[39m,\u001b[0m\n",
              "\u001b[39m    \u001b[0m\u001b[1;35mProperty\u001b[0m\u001b[1;39m(\u001b[0m\n",
              "\u001b[39m        \u001b[0m\u001b[33mname\u001b[0m\u001b[39m=\u001b[0m\u001b[32m'view_count'\u001b[0m\u001b[39m,\u001b[0m\n",
              "\u001b[39m        \u001b[0m\u001b[33mdataType\u001b[0m\u001b[39m=<DataType.INT: \u001b[0m\u001b[32m'int'\u001b[0m\u001b[39m>,\u001b[0m\n",
              "\u001b[39m        \u001b[0m\u001b[33mdescription\u001b[0m\u001b[39m=\u001b[0m\u001b[32m'Number of views the video episode has received'\u001b[0m\u001b[39m,\u001b[0m\n",
              "\u001b[39m        \u001b[0m\u001b[33mindexFilterable\u001b[0m\u001b[39m=\u001b[0m\u001b[3;92mTrue\u001b[0m\u001b[39m,\u001b[0m\n",
              "\u001b[39m        \u001b[0m\u001b[33mindexSearchable\u001b[0m\u001b[39m=\u001b[0m\u001b[3;91mFalse\u001b[0m\u001b[39m,\u001b[0m\n",
              "\u001b[39m        \u001b[0m\u001b[33mindexRangeFilters\u001b[0m\u001b[39m=\u001b[0m\u001b[3;35mNone\u001b[0m\u001b[39m,\u001b[0m\n",
              "\u001b[39m        \u001b[0m\u001b[33mnestedProperties\u001b[0m\u001b[39m=\u001b[0m\u001b[3;35mNone\u001b[0m\u001b[39m,\u001b[0m\n",
              "\u001b[39m        \u001b[0m\u001b[33mskip_vectorization\u001b[0m\u001b[39m=\u001b[0m\u001b[3;91mFalse\u001b[0m\u001b[39m,\u001b[0m\n",
              "\u001b[39m        \u001b[0m\u001b[33mtokenization\u001b[0m\u001b[39m=\u001b[0m\u001b[3;35mNone\u001b[0m\u001b[39m,\u001b[0m\n",
              "\u001b[39m        \u001b[0m\u001b[33mvectorize_property_name\u001b[0m\u001b[39m=\u001b[0m\u001b[3;92mTrue\u001b[0m\n",
              "\u001b[39m    \u001b[0m\u001b[1;39m)\u001b[0m\u001b[39m,\u001b[0m\n",
              "\u001b[39m    \u001b[0m\u001b[1;35mProperty\u001b[0m\u001b[1;39m(\u001b[0m\n",
              "\u001b[39m        \u001b[0m\u001b[33mname\u001b[0m\u001b[39m=\u001b[0m\u001b[32m'episode_num'\u001b[0m\u001b[39m,\u001b[0m\n",
              "\u001b[39m        \u001b[0m\u001b[33mdataType\u001b[0m\u001b[39m=<DataType.INT: \u001b[0m\u001b[32m'int'\u001b[0m\u001b[39m>,\u001b[0m\n",
              "\u001b[39m        \u001b[0m\u001b[33mdescription\u001b[0m\u001b[39m=\u001b[0m\u001b[32m'User-defined episode number in the series'\u001b[0m\u001b[39m,\u001b[0m\n",
              "\u001b[39m        \u001b[0m\u001b[33mindexFilterable\u001b[0m\u001b[39m=\u001b[0m\u001b[3;92mTrue\u001b[0m\u001b[39m,\u001b[0m\n",
              "\u001b[39m        \u001b[0m\u001b[33mindexSearchable\u001b[0m\u001b[39m=\u001b[0m\u001b[3;91mFalse\u001b[0m\u001b[39m,\u001b[0m\n",
              "\u001b[39m        \u001b[0m\u001b[33mindexRangeFilters\u001b[0m\u001b[39m=\u001b[0m\u001b[3;35mNone\u001b[0m\u001b[39m,\u001b[0m\n",
              "\u001b[39m        \u001b[0m\u001b[33mnestedProperties\u001b[0m\u001b[39m=\u001b[0m\u001b[3;35mNone\u001b[0m\u001b[39m,\u001b[0m\n",
              "\u001b[39m        \u001b[0m\u001b[33mskip_vectorization\u001b[0m\u001b[39m=\u001b[0m\u001b[3;91mFalse\u001b[0m\u001b[39m,\u001b[0m\n",
              "\u001b[39m        \u001b[0m\u001b[33mtokenization\u001b[0m\u001b[39m=\u001b[0m\u001b[3;35mNone\u001b[0m\u001b[39m,\u001b[0m\n",
              "\u001b[39m        \u001b[0m\u001b[33mvectorize_property_name\u001b[0m\u001b[39m=\u001b[0m\u001b[3;92mTrue\u001b[0m\n",
              "\u001b[39m    \u001b[0m\u001b[1;39m)\u001b[0m\u001b[39m,\u001b[0m\n",
              "\u001b[39m    \u001b[0m\u001b[1;35mProperty\u001b[0m\u001b[1;39m(\u001b[0m\n",
              "\u001b[39m        \u001b[0m\u001b[33mname\u001b[0m\u001b[39m=\u001b[0m\u001b[32m'doc_id'\u001b[0m\u001b[39m,\u001b[0m\n",
              "\u001b[39m        \u001b[0m\u001b[33mdataType\u001b[0m\u001b[39m=<DataType.TEXT: \u001b[0m\u001b[32m'text'\u001b[0m\u001b[39m>,\u001b[0m\n",
              "\u001b[39m        \u001b[0m\u001b[33mdescription\u001b[0m\u001b[39m=\u001b[0m\u001b[32m'Unique document identifier created during preprocessing of documents'\u001b[0m\u001b[39m,\u001b[0m\n",
              "\u001b[39m        \u001b[0m\u001b[33mindexFilterable\u001b[0m\u001b[39m=\u001b[0m\u001b[3;92mTrue\u001b[0m\u001b[39m,\u001b[0m\n",
              "\u001b[39m        \u001b[0m\u001b[33mindexSearchable\u001b[0m\u001b[39m=\u001b[0m\u001b[3;91mFalse\u001b[0m\u001b[39m,\u001b[0m\n",
              "\u001b[39m        \u001b[0m\u001b[33mindexRangeFilters\u001b[0m\u001b[39m=\u001b[0m\u001b[3;35mNone\u001b[0m\u001b[39m,\u001b[0m\n",
              "\u001b[39m        \u001b[0m\u001b[33mnestedProperties\u001b[0m\u001b[39m=\u001b[0m\u001b[3;35mNone\u001b[0m\u001b[39m,\u001b[0m\n",
              "\u001b[39m        \u001b[0m\u001b[33mskip_vectorization\u001b[0m\u001b[39m=\u001b[0m\u001b[3;91mFalse\u001b[0m\u001b[39m,\u001b[0m\n",
              "\u001b[39m        \u001b[0m\u001b[33mtokenization\u001b[0m\u001b[39m=\u001b[0m\u001b[3;35mNone\u001b[0m\u001b[39m,\u001b[0m\n",
              "\u001b[39m        \u001b[0m\u001b[33mvectorize_property_name\u001b[0m\u001b[39m=\u001b[0m\u001b[3;92mTrue\u001b[0m\n",
              "\u001b[39m    \u001b[0m\u001b[1;39m)\u001b[0m\u001b[39m,\u001b[0m\n",
              "\u001b[39m    \u001b[0m\u001b[1;35mProperty\u001b[0m\u001b[1;39m(\u001b[0m\n",
              "\u001b[39m        \u001b[0m\u001b[33mname\u001b[0m\u001b[39m=\u001b[0m\u001b[32m'content'\u001b[0m\u001b[39m,\u001b[0m\n",
              "\u001b[39m        \u001b[0m\u001b[33mdataType\u001b[0m\u001b[39m=<DataType.TEXT: \u001b[0m\u001b[32m'text'\u001b[0m\u001b[39m>,\u001b[0m\n",
              "\u001b[39m        \u001b[0m\u001b[33mdescription\u001b[0m\u001b[39m=\u001b[0m\u001b[32m'Chunk of text from the video episode'\u001b[0m\u001b[39m,\u001b[0m\n",
              "\u001b[39m        \u001b[0m\u001b[33mindexFilterable\u001b[0m\u001b[39m=\u001b[0m\u001b[3;91mFalse\u001b[0m\u001b[39m,\u001b[0m\n",
              "\u001b[39m        \u001b[0m\u001b[33mindexSearchable\u001b[0m\u001b[39m=\u001b[0m\u001b[3;92mTrue\u001b[0m\u001b[39m,\u001b[0m\n",
              "\u001b[39m        \u001b[0m\u001b[33mindexRangeFilters\u001b[0m\u001b[39m=\u001b[0m\u001b[3;35mNone\u001b[0m\u001b[39m,\u001b[0m\n",
              "\u001b[39m        \u001b[0m\u001b[33mnestedProperties\u001b[0m\u001b[39m=\u001b[0m\u001b[3;35mNone\u001b[0m\u001b[39m,\u001b[0m\n",
              "\u001b[39m        \u001b[0m\u001b[33mskip_vectorization\u001b[0m\u001b[39m=\u001b[0m\u001b[3;91mFalse\u001b[0m\u001b[39m,\u001b[0m\n",
              "\u001b[39m        \u001b[0m\u001b[33mtokenization\u001b[0m\u001b[39m=\u001b[0m\u001b[3;35mNone\u001b[0m\u001b[39m,\u001b[0m\n",
              "\u001b[39m        \u001b[0m\u001b[33mvectorize_property_name\u001b[0m\u001b[39m=\u001b[0m\u001b[3;92mTrue\u001b[0m\n",
              "\u001b[39m    \u001b[0m\u001b[1;39m)\u001b[0m\u001b[39m,\u001b[0m\n",
              "\u001b[39m    \u001b[0m\u001b[1;35mProperty\u001b[0m\u001b[1;39m(\u001b[0m\n",
              "\u001b[39m        \u001b[0m\u001b[33mname\u001b[0m\u001b[39m=\u001b[0m\u001b[32m'guest'\u001b[0m\u001b[39m,\u001b[0m\n",
              "\u001b[39m        \u001b[0m\u001b[33mdataType\u001b[0m\u001b[39m=<DataType.TEXT: \u001b[0m\u001b[32m'text'\u001b[0m\u001b[39m>,\u001b[0m\n",
              "\u001b[39m        \u001b[0m\u001b[33mdescription\u001b[0m\u001b[39m=\u001b[0m\u001b[32m'Guests featured in the video episode'\u001b[0m\u001b[39m,\u001b[0m\n",
              "\u001b[39m        \u001b[0m\u001b[33mindexFilterable\u001b[0m\u001b[39m=\u001b[0m\u001b[3;92mTrue\u001b[0m\u001b[39m,\u001b[0m\n",
              "\u001b[39m        \u001b[0m\u001b[33mindexSearchable\u001b[0m\u001b[39m=\u001b[0m\u001b[3;92mTrue\u001b[0m\u001b[39m,\u001b[0m\n",
              "\u001b[39m        \u001b[0m\u001b[33mindexRangeFilters\u001b[0m\u001b[39m=\u001b[0m\u001b[3;35mNone\u001b[0m\u001b[39m,\u001b[0m\n",
              "\u001b[39m        \u001b[0m\u001b[33mnestedProperties\u001b[0m\u001b[39m=\u001b[0m\u001b[3;35mNone\u001b[0m\u001b[39m,\u001b[0m\n",
              "\u001b[39m        \u001b[0m\u001b[33mskip_vectorization\u001b[0m\u001b[39m=\u001b[0m\u001b[3;91mFalse\u001b[0m\u001b[39m,\u001b[0m\n",
              "\u001b[39m        \u001b[0m\u001b[33mtokenization\u001b[0m\u001b[39m=\u001b[0m\u001b[3;35mNone\u001b[0m\u001b[39m,\u001b[0m\n",
              "\u001b[39m        \u001b[0m\u001b[33mvectorize_property_name\u001b[0m\u001b[39m=\u001b[0m\u001b[3;92mTrue\u001b[0m\n",
              "\u001b[39m    \u001b[0m\u001b[1;39m)\u001b[0m\u001b[39m,\u001b[0m\n",
              "\u001b[39m    \u001b[0m\u001b[1;35mProperty\u001b[0m\u001b[1;39m(\u001b[0m\n",
              "\u001b[39m        \u001b[0m\u001b[33mname\u001b[0m\u001b[39m=\u001b[0m\u001b[32m'episode_url'\u001b[0m\u001b[39m,\u001b[0m\n",
              "\u001b[39m        \u001b[0m\u001b[33mdataType\u001b[0m\u001b[39m=<DataType.TEXT: \u001b[0m\u001b[32m'text'\u001b[0m\u001b[39m>,\u001b[0m\n",
              "\u001b[39m        \u001b[0m\u001b[33mdescription\u001b[0m\u001b[39m=\u001b[0m\u001b[32m'URL of the video episode on YouTube'\u001b[0m\u001b[39m,\u001b[0m\n",
              "\u001b[39m        \u001b[0m\u001b[33mindexFilterable\u001b[0m\u001b[39m=\u001b[0m\u001b[3;91mFalse\u001b[0m\u001b[39m,\u001b[0m\n",
              "\u001b[39m        \u001b[0m\u001b[33mindexSearchable\u001b[0m\u001b[39m=\u001b[0m\u001b[3;91mFalse\u001b[0m\u001b[39m,\u001b[0m\n",
              "\u001b[39m        \u001b[0m\u001b[33mindexRangeFilters\u001b[0m\u001b[39m=\u001b[0m\u001b[3;35mNone\u001b[0m\u001b[39m,\u001b[0m\n",
              "\u001b[39m        \u001b[0m\u001b[33mnestedProperties\u001b[0m\u001b[39m=\u001b[0m\u001b[3;35mNone\u001b[0m\u001b[39m,\u001b[0m\n",
              "\u001b[39m        \u001b[0m\u001b[33mskip_vectorization\u001b[0m\u001b[39m=\u001b[0m\u001b[3;91mFalse\u001b[0m\u001b[39m,\u001b[0m\n",
              "\u001b[39m        \u001b[0m\u001b[33mtokenization\u001b[0m\u001b[39m=\u001b[0m\u001b[3;35mNone\u001b[0m\u001b[39m,\u001b[0m\n",
              "\u001b[39m        \u001b[0m\u001b[33mvectorize_property_name\u001b[0m\u001b[39m=\u001b[0m\u001b[3;92mTrue\u001b[0m\n",
              "\u001b[39m    \u001b[0m\u001b[1;39m)\u001b[0m\u001b[39m,\u001b[0m\n",
              "\u001b[39m    \u001b[0m\u001b[1;35mProperty\u001b[0m\u001b[1;39m(\u001b[0m\n",
              "\u001b[39m        \u001b[0m\u001b[33mname\u001b[0m\u001b[39m=\u001b[0m\u001b[32m'expanded_content'\u001b[0m\u001b[39m,\u001b[0m\n",
              "\u001b[39m        \u001b[0m\u001b[33mdataType\u001b[0m\u001b[39m=<DataType.TEXT: \u001b[0m\u001b[32m'text'\u001b[0m\u001b[1m>\u001b[0m,\n",
              "        \u001b[33mdescription\u001b[0m=\u001b[32m'Expanded window of the content field for additional context'\u001b[0m,\n",
              "        \u001b[33mindexFilterable\u001b[0m=\u001b[3;91mFalse\u001b[0m,\n",
              "        \u001b[33mindexSearchable\u001b[0m=\u001b[3;92mTrue\u001b[0m,\n",
              "        \u001b[33mindexRangeFilters\u001b[0m=\u001b[3;35mNone\u001b[0m,\n",
              "        \u001b[33mnestedProperties\u001b[0m=\u001b[3;35mNone\u001b[0m,\n",
              "        \u001b[33mskip_vectorization\u001b[0m=\u001b[3;91mFalse\u001b[0m,\n",
              "        \u001b[33mtokenization\u001b[0m=\u001b[3;35mNone\u001b[0m,\n",
              "        \u001b[33mvectorize_property_name\u001b[0m=\u001b[3;92mTrue\u001b[0m\n",
              "    \u001b[1m)\u001b[0m\n",
              "\u001b[1m]\u001b[0m\n"
            ],
            "text/html": [
              "<pre style=\"white-space:pre;overflow-x:auto;line-height:normal;font-family:Menlo,'DejaVu Sans Mono',consolas,'Courier New',monospace\"><span style=\"font-weight: bold\">[</span>\n",
              "    <span style=\"color: #800080; text-decoration-color: #800080; font-weight: bold\">Property</span><span style=\"font-weight: bold\">(</span>\n",
              "        <span style=\"color: #808000; text-decoration-color: #808000\">name</span>=<span style=\"color: #008000; text-decoration-color: #008000\">'video_id'</span>,\n",
              "        <span style=\"color: #808000; text-decoration-color: #808000\">dataType</span>=<span style=\"font-weight: bold\">&lt;</span><span style=\"color: #ff00ff; text-decoration-color: #ff00ff; font-weight: bold\">DataType.TEXT:</span><span style=\"color: #000000; text-decoration-color: #000000\"> </span><span style=\"color: #008000; text-decoration-color: #008000\">'text'</span><span style=\"color: #000000; text-decoration-color: #000000\">&gt;,</span>\n",
              "<span style=\"color: #000000; text-decoration-color: #000000\">        </span><span style=\"color: #808000; text-decoration-color: #808000\">description</span><span style=\"color: #000000; text-decoration-color: #000000\">=</span><span style=\"color: #008000; text-decoration-color: #008000\">'Unique identifier of the video episode'</span><span style=\"color: #000000; text-decoration-color: #000000\">,</span>\n",
              "<span style=\"color: #000000; text-decoration-color: #000000\">        </span><span style=\"color: #808000; text-decoration-color: #808000\">indexFilterable</span><span style=\"color: #000000; text-decoration-color: #000000\">=</span><span style=\"color: #00ff00; text-decoration-color: #00ff00; font-style: italic\">True</span><span style=\"color: #000000; text-decoration-color: #000000\">,</span>\n",
              "<span style=\"color: #000000; text-decoration-color: #000000\">        </span><span style=\"color: #808000; text-decoration-color: #808000\">indexSearchable</span><span style=\"color: #000000; text-decoration-color: #000000\">=</span><span style=\"color: #ff0000; text-decoration-color: #ff0000; font-style: italic\">False</span><span style=\"color: #000000; text-decoration-color: #000000\">,</span>\n",
              "<span style=\"color: #000000; text-decoration-color: #000000\">        </span><span style=\"color: #808000; text-decoration-color: #808000\">indexRangeFilters</span><span style=\"color: #000000; text-decoration-color: #000000\">=</span><span style=\"color: #800080; text-decoration-color: #800080; font-style: italic\">None</span><span style=\"color: #000000; text-decoration-color: #000000\">,</span>\n",
              "<span style=\"color: #000000; text-decoration-color: #000000\">        </span><span style=\"color: #808000; text-decoration-color: #808000\">nestedProperties</span><span style=\"color: #000000; text-decoration-color: #000000\">=</span><span style=\"color: #800080; text-decoration-color: #800080; font-style: italic\">None</span><span style=\"color: #000000; text-decoration-color: #000000\">,</span>\n",
              "<span style=\"color: #000000; text-decoration-color: #000000\">        </span><span style=\"color: #808000; text-decoration-color: #808000\">skip_vectorization</span><span style=\"color: #000000; text-decoration-color: #000000\">=</span><span style=\"color: #ff0000; text-decoration-color: #ff0000; font-style: italic\">False</span><span style=\"color: #000000; text-decoration-color: #000000\">,</span>\n",
              "<span style=\"color: #000000; text-decoration-color: #000000\">        </span><span style=\"color: #808000; text-decoration-color: #808000\">tokenization</span><span style=\"color: #000000; text-decoration-color: #000000\">=</span><span style=\"color: #800080; text-decoration-color: #800080; font-style: italic\">None</span><span style=\"color: #000000; text-decoration-color: #000000\">,</span>\n",
              "<span style=\"color: #000000; text-decoration-color: #000000\">        </span><span style=\"color: #808000; text-decoration-color: #808000\">vectorize_property_name</span><span style=\"color: #000000; text-decoration-color: #000000\">=</span><span style=\"color: #00ff00; text-decoration-color: #00ff00; font-style: italic\">True</span>\n",
              "<span style=\"color: #000000; text-decoration-color: #000000\">    </span><span style=\"color: #000000; text-decoration-color: #000000; font-weight: bold\">)</span><span style=\"color: #000000; text-decoration-color: #000000\">,</span>\n",
              "<span style=\"color: #000000; text-decoration-color: #000000\">    </span><span style=\"color: #800080; text-decoration-color: #800080; font-weight: bold\">Property</span><span style=\"color: #000000; text-decoration-color: #000000; font-weight: bold\">(</span>\n",
              "<span style=\"color: #000000; text-decoration-color: #000000\">        </span><span style=\"color: #808000; text-decoration-color: #808000\">name</span><span style=\"color: #000000; text-decoration-color: #000000\">=</span><span style=\"color: #008000; text-decoration-color: #008000\">'title'</span><span style=\"color: #000000; text-decoration-color: #000000\">,</span>\n",
              "<span style=\"color: #000000; text-decoration-color: #000000\">        </span><span style=\"color: #808000; text-decoration-color: #808000\">dataType</span><span style=\"color: #000000; text-decoration-color: #000000\">=&lt;DataType.TEXT: </span><span style=\"color: #008000; text-decoration-color: #008000\">'text'</span><span style=\"color: #000000; text-decoration-color: #000000\">&gt;,</span>\n",
              "<span style=\"color: #000000; text-decoration-color: #000000\">        </span><span style=\"color: #808000; text-decoration-color: #808000\">description</span><span style=\"color: #000000; text-decoration-color: #000000\">=</span><span style=\"color: #008000; text-decoration-color: #008000\">'Title of the video episode'</span><span style=\"color: #000000; text-decoration-color: #000000\">,</span>\n",
              "<span style=\"color: #000000; text-decoration-color: #000000\">        </span><span style=\"color: #808000; text-decoration-color: #808000\">indexFilterable</span><span style=\"color: #000000; text-decoration-color: #000000\">=</span><span style=\"color: #00ff00; text-decoration-color: #00ff00; font-style: italic\">True</span><span style=\"color: #000000; text-decoration-color: #000000\">,</span>\n",
              "<span style=\"color: #000000; text-decoration-color: #000000\">        </span><span style=\"color: #808000; text-decoration-color: #808000\">indexSearchable</span><span style=\"color: #000000; text-decoration-color: #000000\">=</span><span style=\"color: #00ff00; text-decoration-color: #00ff00; font-style: italic\">True</span><span style=\"color: #000000; text-decoration-color: #000000\">,</span>\n",
              "<span style=\"color: #000000; text-decoration-color: #000000\">        </span><span style=\"color: #808000; text-decoration-color: #808000\">indexRangeFilters</span><span style=\"color: #000000; text-decoration-color: #000000\">=</span><span style=\"color: #800080; text-decoration-color: #800080; font-style: italic\">None</span><span style=\"color: #000000; text-decoration-color: #000000\">,</span>\n",
              "<span style=\"color: #000000; text-decoration-color: #000000\">        </span><span style=\"color: #808000; text-decoration-color: #808000\">nestedProperties</span><span style=\"color: #000000; text-decoration-color: #000000\">=</span><span style=\"color: #800080; text-decoration-color: #800080; font-style: italic\">None</span><span style=\"color: #000000; text-decoration-color: #000000\">,</span>\n",
              "<span style=\"color: #000000; text-decoration-color: #000000\">        </span><span style=\"color: #808000; text-decoration-color: #808000\">skip_vectorization</span><span style=\"color: #000000; text-decoration-color: #000000\">=</span><span style=\"color: #ff0000; text-decoration-color: #ff0000; font-style: italic\">False</span><span style=\"color: #000000; text-decoration-color: #000000\">,</span>\n",
              "<span style=\"color: #000000; text-decoration-color: #000000\">        </span><span style=\"color: #808000; text-decoration-color: #808000\">tokenization</span><span style=\"color: #000000; text-decoration-color: #000000\">=</span><span style=\"color: #800080; text-decoration-color: #800080; font-style: italic\">None</span><span style=\"color: #000000; text-decoration-color: #000000\">,</span>\n",
              "<span style=\"color: #000000; text-decoration-color: #000000\">        </span><span style=\"color: #808000; text-decoration-color: #808000\">vectorize_property_name</span><span style=\"color: #000000; text-decoration-color: #000000\">=</span><span style=\"color: #00ff00; text-decoration-color: #00ff00; font-style: italic\">True</span>\n",
              "<span style=\"color: #000000; text-decoration-color: #000000\">    </span><span style=\"color: #000000; text-decoration-color: #000000; font-weight: bold\">)</span><span style=\"color: #000000; text-decoration-color: #000000\">,</span>\n",
              "<span style=\"color: #000000; text-decoration-color: #000000\">    </span><span style=\"color: #800080; text-decoration-color: #800080; font-weight: bold\">Property</span><span style=\"color: #000000; text-decoration-color: #000000; font-weight: bold\">(</span>\n",
              "<span style=\"color: #000000; text-decoration-color: #000000\">        </span><span style=\"color: #808000; text-decoration-color: #808000\">name</span><span style=\"color: #000000; text-decoration-color: #000000\">=</span><span style=\"color: #008000; text-decoration-color: #008000\">'length_seconds'</span><span style=\"color: #000000; text-decoration-color: #000000\">,</span>\n",
              "<span style=\"color: #000000; text-decoration-color: #000000\">        </span><span style=\"color: #808000; text-decoration-color: #808000\">dataType</span><span style=\"color: #000000; text-decoration-color: #000000\">=&lt;DataType.INT: </span><span style=\"color: #008000; text-decoration-color: #008000\">'int'</span><span style=\"color: #000000; text-decoration-color: #000000\">&gt;,</span>\n",
              "<span style=\"color: #000000; text-decoration-color: #000000\">        </span><span style=\"color: #808000; text-decoration-color: #808000\">description</span><span style=\"color: #000000; text-decoration-color: #000000\">=</span><span style=\"color: #008000; text-decoration-color: #008000\">'Length of the video episode in seconds'</span><span style=\"color: #000000; text-decoration-color: #000000\">,</span>\n",
              "<span style=\"color: #000000; text-decoration-color: #000000\">        </span><span style=\"color: #808000; text-decoration-color: #808000\">indexFilterable</span><span style=\"color: #000000; text-decoration-color: #000000\">=</span><span style=\"color: #00ff00; text-decoration-color: #00ff00; font-style: italic\">True</span><span style=\"color: #000000; text-decoration-color: #000000\">,</span>\n",
              "<span style=\"color: #000000; text-decoration-color: #000000\">        </span><span style=\"color: #808000; text-decoration-color: #808000\">indexSearchable</span><span style=\"color: #000000; text-decoration-color: #000000\">=</span><span style=\"color: #ff0000; text-decoration-color: #ff0000; font-style: italic\">False</span><span style=\"color: #000000; text-decoration-color: #000000\">,</span>\n",
              "<span style=\"color: #000000; text-decoration-color: #000000\">        </span><span style=\"color: #808000; text-decoration-color: #808000\">indexRangeFilters</span><span style=\"color: #000000; text-decoration-color: #000000\">=</span><span style=\"color: #800080; text-decoration-color: #800080; font-style: italic\">None</span><span style=\"color: #000000; text-decoration-color: #000000\">,</span>\n",
              "<span style=\"color: #000000; text-decoration-color: #000000\">        </span><span style=\"color: #808000; text-decoration-color: #808000\">nestedProperties</span><span style=\"color: #000000; text-decoration-color: #000000\">=</span><span style=\"color: #800080; text-decoration-color: #800080; font-style: italic\">None</span><span style=\"color: #000000; text-decoration-color: #000000\">,</span>\n",
              "<span style=\"color: #000000; text-decoration-color: #000000\">        </span><span style=\"color: #808000; text-decoration-color: #808000\">skip_vectorization</span><span style=\"color: #000000; text-decoration-color: #000000\">=</span><span style=\"color: #ff0000; text-decoration-color: #ff0000; font-style: italic\">False</span><span style=\"color: #000000; text-decoration-color: #000000\">,</span>\n",
              "<span style=\"color: #000000; text-decoration-color: #000000\">        </span><span style=\"color: #808000; text-decoration-color: #808000\">tokenization</span><span style=\"color: #000000; text-decoration-color: #000000\">=</span><span style=\"color: #800080; text-decoration-color: #800080; font-style: italic\">None</span><span style=\"color: #000000; text-decoration-color: #000000\">,</span>\n",
              "<span style=\"color: #000000; text-decoration-color: #000000\">        </span><span style=\"color: #808000; text-decoration-color: #808000\">vectorize_property_name</span><span style=\"color: #000000; text-decoration-color: #000000\">=</span><span style=\"color: #00ff00; text-decoration-color: #00ff00; font-style: italic\">True</span>\n",
              "<span style=\"color: #000000; text-decoration-color: #000000\">    </span><span style=\"color: #000000; text-decoration-color: #000000; font-weight: bold\">)</span><span style=\"color: #000000; text-decoration-color: #000000\">,</span>\n",
              "<span style=\"color: #000000; text-decoration-color: #000000\">    </span><span style=\"color: #800080; text-decoration-color: #800080; font-weight: bold\">Property</span><span style=\"color: #000000; text-decoration-color: #000000; font-weight: bold\">(</span>\n",
              "<span style=\"color: #000000; text-decoration-color: #000000\">        </span><span style=\"color: #808000; text-decoration-color: #808000\">name</span><span style=\"color: #000000; text-decoration-color: #000000\">=</span><span style=\"color: #008000; text-decoration-color: #008000\">'thumbnail_url'</span><span style=\"color: #000000; text-decoration-color: #000000\">,</span>\n",
              "<span style=\"color: #000000; text-decoration-color: #000000\">        </span><span style=\"color: #808000; text-decoration-color: #808000\">dataType</span><span style=\"color: #000000; text-decoration-color: #000000\">=&lt;DataType.TEXT: </span><span style=\"color: #008000; text-decoration-color: #008000\">'text'</span><span style=\"color: #000000; text-decoration-color: #000000\">&gt;,</span>\n",
              "<span style=\"color: #000000; text-decoration-color: #000000\">        </span><span style=\"color: #808000; text-decoration-color: #808000\">description</span><span style=\"color: #000000; text-decoration-color: #000000\">=</span><span style=\"color: #008000; text-decoration-color: #008000\">'URL of the video episode thumbnail picture'</span><span style=\"color: #000000; text-decoration-color: #000000\">,</span>\n",
              "<span style=\"color: #000000; text-decoration-color: #000000\">        </span><span style=\"color: #808000; text-decoration-color: #808000\">indexFilterable</span><span style=\"color: #000000; text-decoration-color: #000000\">=</span><span style=\"color: #ff0000; text-decoration-color: #ff0000; font-style: italic\">False</span><span style=\"color: #000000; text-decoration-color: #000000\">,</span>\n",
              "<span style=\"color: #000000; text-decoration-color: #000000\">        </span><span style=\"color: #808000; text-decoration-color: #808000\">indexSearchable</span><span style=\"color: #000000; text-decoration-color: #000000\">=</span><span style=\"color: #ff0000; text-decoration-color: #ff0000; font-style: italic\">False</span><span style=\"color: #000000; text-decoration-color: #000000\">,</span>\n",
              "<span style=\"color: #000000; text-decoration-color: #000000\">        </span><span style=\"color: #808000; text-decoration-color: #808000\">indexRangeFilters</span><span style=\"color: #000000; text-decoration-color: #000000\">=</span><span style=\"color: #800080; text-decoration-color: #800080; font-style: italic\">None</span><span style=\"color: #000000; text-decoration-color: #000000\">,</span>\n",
              "<span style=\"color: #000000; text-decoration-color: #000000\">        </span><span style=\"color: #808000; text-decoration-color: #808000\">nestedProperties</span><span style=\"color: #000000; text-decoration-color: #000000\">=</span><span style=\"color: #800080; text-decoration-color: #800080; font-style: italic\">None</span><span style=\"color: #000000; text-decoration-color: #000000\">,</span>\n",
              "<span style=\"color: #000000; text-decoration-color: #000000\">        </span><span style=\"color: #808000; text-decoration-color: #808000\">skip_vectorization</span><span style=\"color: #000000; text-decoration-color: #000000\">=</span><span style=\"color: #ff0000; text-decoration-color: #ff0000; font-style: italic\">False</span><span style=\"color: #000000; text-decoration-color: #000000\">,</span>\n",
              "<span style=\"color: #000000; text-decoration-color: #000000\">        </span><span style=\"color: #808000; text-decoration-color: #808000\">tokenization</span><span style=\"color: #000000; text-decoration-color: #000000\">=</span><span style=\"color: #800080; text-decoration-color: #800080; font-style: italic\">None</span><span style=\"color: #000000; text-decoration-color: #000000\">,</span>\n",
              "<span style=\"color: #000000; text-decoration-color: #000000\">        </span><span style=\"color: #808000; text-decoration-color: #808000\">vectorize_property_name</span><span style=\"color: #000000; text-decoration-color: #000000\">=</span><span style=\"color: #00ff00; text-decoration-color: #00ff00; font-style: italic\">True</span>\n",
              "<span style=\"color: #000000; text-decoration-color: #000000\">    </span><span style=\"color: #000000; text-decoration-color: #000000; font-weight: bold\">)</span><span style=\"color: #000000; text-decoration-color: #000000\">,</span>\n",
              "<span style=\"color: #000000; text-decoration-color: #000000\">    </span><span style=\"color: #800080; text-decoration-color: #800080; font-weight: bold\">Property</span><span style=\"color: #000000; text-decoration-color: #000000; font-weight: bold\">(</span>\n",
              "<span style=\"color: #000000; text-decoration-color: #000000\">        </span><span style=\"color: #808000; text-decoration-color: #808000\">name</span><span style=\"color: #000000; text-decoration-color: #000000\">=</span><span style=\"color: #008000; text-decoration-color: #008000\">'keywords'</span><span style=\"color: #000000; text-decoration-color: #000000\">,</span>\n",
              "<span style=\"color: #000000; text-decoration-color: #000000\">        </span><span style=\"color: #808000; text-decoration-color: #808000\">dataType</span><span style=\"color: #000000; text-decoration-color: #000000\">=&lt;DataType.TEXT_ARRAY: </span><span style=\"color: #008000; text-decoration-color: #008000\">'text[]'</span><span style=\"color: #000000; text-decoration-color: #000000\">&gt;,</span>\n",
              "<span style=\"color: #000000; text-decoration-color: #000000\">        </span><span style=\"color: #808000; text-decoration-color: #808000\">description</span><span style=\"color: #000000; text-decoration-color: #000000\">=</span><span style=\"color: #008000; text-decoration-color: #008000\">'Keywords associated with the video episode'</span><span style=\"color: #000000; text-decoration-color: #000000\">,</span>\n",
              "<span style=\"color: #000000; text-decoration-color: #000000\">        </span><span style=\"color: #808000; text-decoration-color: #808000\">indexFilterable</span><span style=\"color: #000000; text-decoration-color: #000000\">=</span><span style=\"color: #00ff00; text-decoration-color: #00ff00; font-style: italic\">True</span><span style=\"color: #000000; text-decoration-color: #000000\">,</span>\n",
              "<span style=\"color: #000000; text-decoration-color: #000000\">        </span><span style=\"color: #808000; text-decoration-color: #808000\">indexSearchable</span><span style=\"color: #000000; text-decoration-color: #000000\">=</span><span style=\"color: #00ff00; text-decoration-color: #00ff00; font-style: italic\">True</span><span style=\"color: #000000; text-decoration-color: #000000\">,</span>\n",
              "<span style=\"color: #000000; text-decoration-color: #000000\">        </span><span style=\"color: #808000; text-decoration-color: #808000\">indexRangeFilters</span><span style=\"color: #000000; text-decoration-color: #000000\">=</span><span style=\"color: #800080; text-decoration-color: #800080; font-style: italic\">None</span><span style=\"color: #000000; text-decoration-color: #000000\">,</span>\n",
              "<span style=\"color: #000000; text-decoration-color: #000000\">        </span><span style=\"color: #808000; text-decoration-color: #808000\">nestedProperties</span><span style=\"color: #000000; text-decoration-color: #000000\">=</span><span style=\"color: #800080; text-decoration-color: #800080; font-style: italic\">None</span><span style=\"color: #000000; text-decoration-color: #000000\">,</span>\n",
              "<span style=\"color: #000000; text-decoration-color: #000000\">        </span><span style=\"color: #808000; text-decoration-color: #808000\">skip_vectorization</span><span style=\"color: #000000; text-decoration-color: #000000\">=</span><span style=\"color: #ff0000; text-decoration-color: #ff0000; font-style: italic\">False</span><span style=\"color: #000000; text-decoration-color: #000000\">,</span>\n",
              "<span style=\"color: #000000; text-decoration-color: #000000\">        </span><span style=\"color: #808000; text-decoration-color: #808000\">tokenization</span><span style=\"color: #000000; text-decoration-color: #000000\">=</span><span style=\"color: #800080; text-decoration-color: #800080; font-style: italic\">None</span><span style=\"color: #000000; text-decoration-color: #000000\">,</span>\n",
              "<span style=\"color: #000000; text-decoration-color: #000000\">        </span><span style=\"color: #808000; text-decoration-color: #808000\">vectorize_property_name</span><span style=\"color: #000000; text-decoration-color: #000000\">=</span><span style=\"color: #00ff00; text-decoration-color: #00ff00; font-style: italic\">True</span>\n",
              "<span style=\"color: #000000; text-decoration-color: #000000\">    </span><span style=\"color: #000000; text-decoration-color: #000000; font-weight: bold\">)</span><span style=\"color: #000000; text-decoration-color: #000000\">,</span>\n",
              "<span style=\"color: #000000; text-decoration-color: #000000\">    </span><span style=\"color: #800080; text-decoration-color: #800080; font-weight: bold\">Property</span><span style=\"color: #000000; text-decoration-color: #000000; font-weight: bold\">(</span>\n",
              "<span style=\"color: #000000; text-decoration-color: #000000\">        </span><span style=\"color: #808000; text-decoration-color: #808000\">name</span><span style=\"color: #000000; text-decoration-color: #000000\">=</span><span style=\"color: #008000; text-decoration-color: #008000\">'summary'</span><span style=\"color: #000000; text-decoration-color: #000000\">,</span>\n",
              "<span style=\"color: #000000; text-decoration-color: #000000\">        </span><span style=\"color: #808000; text-decoration-color: #808000\">dataType</span><span style=\"color: #000000; text-decoration-color: #000000\">=&lt;DataType.TEXT: </span><span style=\"color: #008000; text-decoration-color: #008000\">'text'</span><span style=\"color: #000000; text-decoration-color: #000000\">&gt;,</span>\n",
              "<span style=\"color: #000000; text-decoration-color: #000000\">        </span><span style=\"color: #808000; text-decoration-color: #808000\">description</span><span style=\"color: #000000; text-decoration-color: #000000\">=</span><span style=\"color: #008000; text-decoration-color: #008000\">'Short summary of the episode content'</span><span style=\"color: #000000; text-decoration-color: #000000\">,</span>\n",
              "<span style=\"color: #000000; text-decoration-color: #000000\">        </span><span style=\"color: #808000; text-decoration-color: #808000\">indexFilterable</span><span style=\"color: #000000; text-decoration-color: #000000\">=</span><span style=\"color: #ff0000; text-decoration-color: #ff0000; font-style: italic\">False</span><span style=\"color: #000000; text-decoration-color: #000000\">,</span>\n",
              "<span style=\"color: #000000; text-decoration-color: #000000\">        </span><span style=\"color: #808000; text-decoration-color: #808000\">indexSearchable</span><span style=\"color: #000000; text-decoration-color: #000000\">=</span><span style=\"color: #00ff00; text-decoration-color: #00ff00; font-style: italic\">True</span><span style=\"color: #000000; text-decoration-color: #000000\">,</span>\n",
              "<span style=\"color: #000000; text-decoration-color: #000000\">        </span><span style=\"color: #808000; text-decoration-color: #808000\">indexRangeFilters</span><span style=\"color: #000000; text-decoration-color: #000000\">=</span><span style=\"color: #800080; text-decoration-color: #800080; font-style: italic\">None</span><span style=\"color: #000000; text-decoration-color: #000000\">,</span>\n",
              "<span style=\"color: #000000; text-decoration-color: #000000\">        </span><span style=\"color: #808000; text-decoration-color: #808000\">nestedProperties</span><span style=\"color: #000000; text-decoration-color: #000000\">=</span><span style=\"color: #800080; text-decoration-color: #800080; font-style: italic\">None</span><span style=\"color: #000000; text-decoration-color: #000000\">,</span>\n",
              "<span style=\"color: #000000; text-decoration-color: #000000\">        </span><span style=\"color: #808000; text-decoration-color: #808000\">skip_vectorization</span><span style=\"color: #000000; text-decoration-color: #000000\">=</span><span style=\"color: #ff0000; text-decoration-color: #ff0000; font-style: italic\">False</span><span style=\"color: #000000; text-decoration-color: #000000\">,</span>\n",
              "<span style=\"color: #000000; text-decoration-color: #000000\">        </span><span style=\"color: #808000; text-decoration-color: #808000\">tokenization</span><span style=\"color: #000000; text-decoration-color: #000000\">=</span><span style=\"color: #800080; text-decoration-color: #800080; font-style: italic\">None</span><span style=\"color: #000000; text-decoration-color: #000000\">,</span>\n",
              "<span style=\"color: #000000; text-decoration-color: #000000\">        </span><span style=\"color: #808000; text-decoration-color: #808000\">vectorize_property_name</span><span style=\"color: #000000; text-decoration-color: #000000\">=</span><span style=\"color: #00ff00; text-decoration-color: #00ff00; font-style: italic\">True</span>\n",
              "<span style=\"color: #000000; text-decoration-color: #000000\">    </span><span style=\"color: #000000; text-decoration-color: #000000; font-weight: bold\">)</span><span style=\"color: #000000; text-decoration-color: #000000\">,</span>\n",
              "<span style=\"color: #000000; text-decoration-color: #000000\">    </span><span style=\"color: #800080; text-decoration-color: #800080; font-weight: bold\">Property</span><span style=\"color: #000000; text-decoration-color: #000000; font-weight: bold\">(</span>\n",
              "<span style=\"color: #000000; text-decoration-color: #000000\">        </span><span style=\"color: #808000; text-decoration-color: #808000\">name</span><span style=\"color: #000000; text-decoration-color: #000000\">=</span><span style=\"color: #008000; text-decoration-color: #008000\">'view_count'</span><span style=\"color: #000000; text-decoration-color: #000000\">,</span>\n",
              "<span style=\"color: #000000; text-decoration-color: #000000\">        </span><span style=\"color: #808000; text-decoration-color: #808000\">dataType</span><span style=\"color: #000000; text-decoration-color: #000000\">=&lt;DataType.INT: </span><span style=\"color: #008000; text-decoration-color: #008000\">'int'</span><span style=\"color: #000000; text-decoration-color: #000000\">&gt;,</span>\n",
              "<span style=\"color: #000000; text-decoration-color: #000000\">        </span><span style=\"color: #808000; text-decoration-color: #808000\">description</span><span style=\"color: #000000; text-decoration-color: #000000\">=</span><span style=\"color: #008000; text-decoration-color: #008000\">'Number of views the video episode has received'</span><span style=\"color: #000000; text-decoration-color: #000000\">,</span>\n",
              "<span style=\"color: #000000; text-decoration-color: #000000\">        </span><span style=\"color: #808000; text-decoration-color: #808000\">indexFilterable</span><span style=\"color: #000000; text-decoration-color: #000000\">=</span><span style=\"color: #00ff00; text-decoration-color: #00ff00; font-style: italic\">True</span><span style=\"color: #000000; text-decoration-color: #000000\">,</span>\n",
              "<span style=\"color: #000000; text-decoration-color: #000000\">        </span><span style=\"color: #808000; text-decoration-color: #808000\">indexSearchable</span><span style=\"color: #000000; text-decoration-color: #000000\">=</span><span style=\"color: #ff0000; text-decoration-color: #ff0000; font-style: italic\">False</span><span style=\"color: #000000; text-decoration-color: #000000\">,</span>\n",
              "<span style=\"color: #000000; text-decoration-color: #000000\">        </span><span style=\"color: #808000; text-decoration-color: #808000\">indexRangeFilters</span><span style=\"color: #000000; text-decoration-color: #000000\">=</span><span style=\"color: #800080; text-decoration-color: #800080; font-style: italic\">None</span><span style=\"color: #000000; text-decoration-color: #000000\">,</span>\n",
              "<span style=\"color: #000000; text-decoration-color: #000000\">        </span><span style=\"color: #808000; text-decoration-color: #808000\">nestedProperties</span><span style=\"color: #000000; text-decoration-color: #000000\">=</span><span style=\"color: #800080; text-decoration-color: #800080; font-style: italic\">None</span><span style=\"color: #000000; text-decoration-color: #000000\">,</span>\n",
              "<span style=\"color: #000000; text-decoration-color: #000000\">        </span><span style=\"color: #808000; text-decoration-color: #808000\">skip_vectorization</span><span style=\"color: #000000; text-decoration-color: #000000\">=</span><span style=\"color: #ff0000; text-decoration-color: #ff0000; font-style: italic\">False</span><span style=\"color: #000000; text-decoration-color: #000000\">,</span>\n",
              "<span style=\"color: #000000; text-decoration-color: #000000\">        </span><span style=\"color: #808000; text-decoration-color: #808000\">tokenization</span><span style=\"color: #000000; text-decoration-color: #000000\">=</span><span style=\"color: #800080; text-decoration-color: #800080; font-style: italic\">None</span><span style=\"color: #000000; text-decoration-color: #000000\">,</span>\n",
              "<span style=\"color: #000000; text-decoration-color: #000000\">        </span><span style=\"color: #808000; text-decoration-color: #808000\">vectorize_property_name</span><span style=\"color: #000000; text-decoration-color: #000000\">=</span><span style=\"color: #00ff00; text-decoration-color: #00ff00; font-style: italic\">True</span>\n",
              "<span style=\"color: #000000; text-decoration-color: #000000\">    </span><span style=\"color: #000000; text-decoration-color: #000000; font-weight: bold\">)</span><span style=\"color: #000000; text-decoration-color: #000000\">,</span>\n",
              "<span style=\"color: #000000; text-decoration-color: #000000\">    </span><span style=\"color: #800080; text-decoration-color: #800080; font-weight: bold\">Property</span><span style=\"color: #000000; text-decoration-color: #000000; font-weight: bold\">(</span>\n",
              "<span style=\"color: #000000; text-decoration-color: #000000\">        </span><span style=\"color: #808000; text-decoration-color: #808000\">name</span><span style=\"color: #000000; text-decoration-color: #000000\">=</span><span style=\"color: #008000; text-decoration-color: #008000\">'episode_num'</span><span style=\"color: #000000; text-decoration-color: #000000\">,</span>\n",
              "<span style=\"color: #000000; text-decoration-color: #000000\">        </span><span style=\"color: #808000; text-decoration-color: #808000\">dataType</span><span style=\"color: #000000; text-decoration-color: #000000\">=&lt;DataType.INT: </span><span style=\"color: #008000; text-decoration-color: #008000\">'int'</span><span style=\"color: #000000; text-decoration-color: #000000\">&gt;,</span>\n",
              "<span style=\"color: #000000; text-decoration-color: #000000\">        </span><span style=\"color: #808000; text-decoration-color: #808000\">description</span><span style=\"color: #000000; text-decoration-color: #000000\">=</span><span style=\"color: #008000; text-decoration-color: #008000\">'User-defined episode number in the series'</span><span style=\"color: #000000; text-decoration-color: #000000\">,</span>\n",
              "<span style=\"color: #000000; text-decoration-color: #000000\">        </span><span style=\"color: #808000; text-decoration-color: #808000\">indexFilterable</span><span style=\"color: #000000; text-decoration-color: #000000\">=</span><span style=\"color: #00ff00; text-decoration-color: #00ff00; font-style: italic\">True</span><span style=\"color: #000000; text-decoration-color: #000000\">,</span>\n",
              "<span style=\"color: #000000; text-decoration-color: #000000\">        </span><span style=\"color: #808000; text-decoration-color: #808000\">indexSearchable</span><span style=\"color: #000000; text-decoration-color: #000000\">=</span><span style=\"color: #ff0000; text-decoration-color: #ff0000; font-style: italic\">False</span><span style=\"color: #000000; text-decoration-color: #000000\">,</span>\n",
              "<span style=\"color: #000000; text-decoration-color: #000000\">        </span><span style=\"color: #808000; text-decoration-color: #808000\">indexRangeFilters</span><span style=\"color: #000000; text-decoration-color: #000000\">=</span><span style=\"color: #800080; text-decoration-color: #800080; font-style: italic\">None</span><span style=\"color: #000000; text-decoration-color: #000000\">,</span>\n",
              "<span style=\"color: #000000; text-decoration-color: #000000\">        </span><span style=\"color: #808000; text-decoration-color: #808000\">nestedProperties</span><span style=\"color: #000000; text-decoration-color: #000000\">=</span><span style=\"color: #800080; text-decoration-color: #800080; font-style: italic\">None</span><span style=\"color: #000000; text-decoration-color: #000000\">,</span>\n",
              "<span style=\"color: #000000; text-decoration-color: #000000\">        </span><span style=\"color: #808000; text-decoration-color: #808000\">skip_vectorization</span><span style=\"color: #000000; text-decoration-color: #000000\">=</span><span style=\"color: #ff0000; text-decoration-color: #ff0000; font-style: italic\">False</span><span style=\"color: #000000; text-decoration-color: #000000\">,</span>\n",
              "<span style=\"color: #000000; text-decoration-color: #000000\">        </span><span style=\"color: #808000; text-decoration-color: #808000\">tokenization</span><span style=\"color: #000000; text-decoration-color: #000000\">=</span><span style=\"color: #800080; text-decoration-color: #800080; font-style: italic\">None</span><span style=\"color: #000000; text-decoration-color: #000000\">,</span>\n",
              "<span style=\"color: #000000; text-decoration-color: #000000\">        </span><span style=\"color: #808000; text-decoration-color: #808000\">vectorize_property_name</span><span style=\"color: #000000; text-decoration-color: #000000\">=</span><span style=\"color: #00ff00; text-decoration-color: #00ff00; font-style: italic\">True</span>\n",
              "<span style=\"color: #000000; text-decoration-color: #000000\">    </span><span style=\"color: #000000; text-decoration-color: #000000; font-weight: bold\">)</span><span style=\"color: #000000; text-decoration-color: #000000\">,</span>\n",
              "<span style=\"color: #000000; text-decoration-color: #000000\">    </span><span style=\"color: #800080; text-decoration-color: #800080; font-weight: bold\">Property</span><span style=\"color: #000000; text-decoration-color: #000000; font-weight: bold\">(</span>\n",
              "<span style=\"color: #000000; text-decoration-color: #000000\">        </span><span style=\"color: #808000; text-decoration-color: #808000\">name</span><span style=\"color: #000000; text-decoration-color: #000000\">=</span><span style=\"color: #008000; text-decoration-color: #008000\">'doc_id'</span><span style=\"color: #000000; text-decoration-color: #000000\">,</span>\n",
              "<span style=\"color: #000000; text-decoration-color: #000000\">        </span><span style=\"color: #808000; text-decoration-color: #808000\">dataType</span><span style=\"color: #000000; text-decoration-color: #000000\">=&lt;DataType.TEXT: </span><span style=\"color: #008000; text-decoration-color: #008000\">'text'</span><span style=\"color: #000000; text-decoration-color: #000000\">&gt;,</span>\n",
              "<span style=\"color: #000000; text-decoration-color: #000000\">        </span><span style=\"color: #808000; text-decoration-color: #808000\">description</span><span style=\"color: #000000; text-decoration-color: #000000\">=</span><span style=\"color: #008000; text-decoration-color: #008000\">'Unique document identifier created during preprocessing of documents'</span><span style=\"color: #000000; text-decoration-color: #000000\">,</span>\n",
              "<span style=\"color: #000000; text-decoration-color: #000000\">        </span><span style=\"color: #808000; text-decoration-color: #808000\">indexFilterable</span><span style=\"color: #000000; text-decoration-color: #000000\">=</span><span style=\"color: #00ff00; text-decoration-color: #00ff00; font-style: italic\">True</span><span style=\"color: #000000; text-decoration-color: #000000\">,</span>\n",
              "<span style=\"color: #000000; text-decoration-color: #000000\">        </span><span style=\"color: #808000; text-decoration-color: #808000\">indexSearchable</span><span style=\"color: #000000; text-decoration-color: #000000\">=</span><span style=\"color: #ff0000; text-decoration-color: #ff0000; font-style: italic\">False</span><span style=\"color: #000000; text-decoration-color: #000000\">,</span>\n",
              "<span style=\"color: #000000; text-decoration-color: #000000\">        </span><span style=\"color: #808000; text-decoration-color: #808000\">indexRangeFilters</span><span style=\"color: #000000; text-decoration-color: #000000\">=</span><span style=\"color: #800080; text-decoration-color: #800080; font-style: italic\">None</span><span style=\"color: #000000; text-decoration-color: #000000\">,</span>\n",
              "<span style=\"color: #000000; text-decoration-color: #000000\">        </span><span style=\"color: #808000; text-decoration-color: #808000\">nestedProperties</span><span style=\"color: #000000; text-decoration-color: #000000\">=</span><span style=\"color: #800080; text-decoration-color: #800080; font-style: italic\">None</span><span style=\"color: #000000; text-decoration-color: #000000\">,</span>\n",
              "<span style=\"color: #000000; text-decoration-color: #000000\">        </span><span style=\"color: #808000; text-decoration-color: #808000\">skip_vectorization</span><span style=\"color: #000000; text-decoration-color: #000000\">=</span><span style=\"color: #ff0000; text-decoration-color: #ff0000; font-style: italic\">False</span><span style=\"color: #000000; text-decoration-color: #000000\">,</span>\n",
              "<span style=\"color: #000000; text-decoration-color: #000000\">        </span><span style=\"color: #808000; text-decoration-color: #808000\">tokenization</span><span style=\"color: #000000; text-decoration-color: #000000\">=</span><span style=\"color: #800080; text-decoration-color: #800080; font-style: italic\">None</span><span style=\"color: #000000; text-decoration-color: #000000\">,</span>\n",
              "<span style=\"color: #000000; text-decoration-color: #000000\">        </span><span style=\"color: #808000; text-decoration-color: #808000\">vectorize_property_name</span><span style=\"color: #000000; text-decoration-color: #000000\">=</span><span style=\"color: #00ff00; text-decoration-color: #00ff00; font-style: italic\">True</span>\n",
              "<span style=\"color: #000000; text-decoration-color: #000000\">    </span><span style=\"color: #000000; text-decoration-color: #000000; font-weight: bold\">)</span><span style=\"color: #000000; text-decoration-color: #000000\">,</span>\n",
              "<span style=\"color: #000000; text-decoration-color: #000000\">    </span><span style=\"color: #800080; text-decoration-color: #800080; font-weight: bold\">Property</span><span style=\"color: #000000; text-decoration-color: #000000; font-weight: bold\">(</span>\n",
              "<span style=\"color: #000000; text-decoration-color: #000000\">        </span><span style=\"color: #808000; text-decoration-color: #808000\">name</span><span style=\"color: #000000; text-decoration-color: #000000\">=</span><span style=\"color: #008000; text-decoration-color: #008000\">'content'</span><span style=\"color: #000000; text-decoration-color: #000000\">,</span>\n",
              "<span style=\"color: #000000; text-decoration-color: #000000\">        </span><span style=\"color: #808000; text-decoration-color: #808000\">dataType</span><span style=\"color: #000000; text-decoration-color: #000000\">=&lt;DataType.TEXT: </span><span style=\"color: #008000; text-decoration-color: #008000\">'text'</span><span style=\"color: #000000; text-decoration-color: #000000\">&gt;,</span>\n",
              "<span style=\"color: #000000; text-decoration-color: #000000\">        </span><span style=\"color: #808000; text-decoration-color: #808000\">description</span><span style=\"color: #000000; text-decoration-color: #000000\">=</span><span style=\"color: #008000; text-decoration-color: #008000\">'Chunk of text from the video episode'</span><span style=\"color: #000000; text-decoration-color: #000000\">,</span>\n",
              "<span style=\"color: #000000; text-decoration-color: #000000\">        </span><span style=\"color: #808000; text-decoration-color: #808000\">indexFilterable</span><span style=\"color: #000000; text-decoration-color: #000000\">=</span><span style=\"color: #ff0000; text-decoration-color: #ff0000; font-style: italic\">False</span><span style=\"color: #000000; text-decoration-color: #000000\">,</span>\n",
              "<span style=\"color: #000000; text-decoration-color: #000000\">        </span><span style=\"color: #808000; text-decoration-color: #808000\">indexSearchable</span><span style=\"color: #000000; text-decoration-color: #000000\">=</span><span style=\"color: #00ff00; text-decoration-color: #00ff00; font-style: italic\">True</span><span style=\"color: #000000; text-decoration-color: #000000\">,</span>\n",
              "<span style=\"color: #000000; text-decoration-color: #000000\">        </span><span style=\"color: #808000; text-decoration-color: #808000\">indexRangeFilters</span><span style=\"color: #000000; text-decoration-color: #000000\">=</span><span style=\"color: #800080; text-decoration-color: #800080; font-style: italic\">None</span><span style=\"color: #000000; text-decoration-color: #000000\">,</span>\n",
              "<span style=\"color: #000000; text-decoration-color: #000000\">        </span><span style=\"color: #808000; text-decoration-color: #808000\">nestedProperties</span><span style=\"color: #000000; text-decoration-color: #000000\">=</span><span style=\"color: #800080; text-decoration-color: #800080; font-style: italic\">None</span><span style=\"color: #000000; text-decoration-color: #000000\">,</span>\n",
              "<span style=\"color: #000000; text-decoration-color: #000000\">        </span><span style=\"color: #808000; text-decoration-color: #808000\">skip_vectorization</span><span style=\"color: #000000; text-decoration-color: #000000\">=</span><span style=\"color: #ff0000; text-decoration-color: #ff0000; font-style: italic\">False</span><span style=\"color: #000000; text-decoration-color: #000000\">,</span>\n",
              "<span style=\"color: #000000; text-decoration-color: #000000\">        </span><span style=\"color: #808000; text-decoration-color: #808000\">tokenization</span><span style=\"color: #000000; text-decoration-color: #000000\">=</span><span style=\"color: #800080; text-decoration-color: #800080; font-style: italic\">None</span><span style=\"color: #000000; text-decoration-color: #000000\">,</span>\n",
              "<span style=\"color: #000000; text-decoration-color: #000000\">        </span><span style=\"color: #808000; text-decoration-color: #808000\">vectorize_property_name</span><span style=\"color: #000000; text-decoration-color: #000000\">=</span><span style=\"color: #00ff00; text-decoration-color: #00ff00; font-style: italic\">True</span>\n",
              "<span style=\"color: #000000; text-decoration-color: #000000\">    </span><span style=\"color: #000000; text-decoration-color: #000000; font-weight: bold\">)</span><span style=\"color: #000000; text-decoration-color: #000000\">,</span>\n",
              "<span style=\"color: #000000; text-decoration-color: #000000\">    </span><span style=\"color: #800080; text-decoration-color: #800080; font-weight: bold\">Property</span><span style=\"color: #000000; text-decoration-color: #000000; font-weight: bold\">(</span>\n",
              "<span style=\"color: #000000; text-decoration-color: #000000\">        </span><span style=\"color: #808000; text-decoration-color: #808000\">name</span><span style=\"color: #000000; text-decoration-color: #000000\">=</span><span style=\"color: #008000; text-decoration-color: #008000\">'guest'</span><span style=\"color: #000000; text-decoration-color: #000000\">,</span>\n",
              "<span style=\"color: #000000; text-decoration-color: #000000\">        </span><span style=\"color: #808000; text-decoration-color: #808000\">dataType</span><span style=\"color: #000000; text-decoration-color: #000000\">=&lt;DataType.TEXT: </span><span style=\"color: #008000; text-decoration-color: #008000\">'text'</span><span style=\"color: #000000; text-decoration-color: #000000\">&gt;,</span>\n",
              "<span style=\"color: #000000; text-decoration-color: #000000\">        </span><span style=\"color: #808000; text-decoration-color: #808000\">description</span><span style=\"color: #000000; text-decoration-color: #000000\">=</span><span style=\"color: #008000; text-decoration-color: #008000\">'Guests featured in the video episode'</span><span style=\"color: #000000; text-decoration-color: #000000\">,</span>\n",
              "<span style=\"color: #000000; text-decoration-color: #000000\">        </span><span style=\"color: #808000; text-decoration-color: #808000\">indexFilterable</span><span style=\"color: #000000; text-decoration-color: #000000\">=</span><span style=\"color: #00ff00; text-decoration-color: #00ff00; font-style: italic\">True</span><span style=\"color: #000000; text-decoration-color: #000000\">,</span>\n",
              "<span style=\"color: #000000; text-decoration-color: #000000\">        </span><span style=\"color: #808000; text-decoration-color: #808000\">indexSearchable</span><span style=\"color: #000000; text-decoration-color: #000000\">=</span><span style=\"color: #00ff00; text-decoration-color: #00ff00; font-style: italic\">True</span><span style=\"color: #000000; text-decoration-color: #000000\">,</span>\n",
              "<span style=\"color: #000000; text-decoration-color: #000000\">        </span><span style=\"color: #808000; text-decoration-color: #808000\">indexRangeFilters</span><span style=\"color: #000000; text-decoration-color: #000000\">=</span><span style=\"color: #800080; text-decoration-color: #800080; font-style: italic\">None</span><span style=\"color: #000000; text-decoration-color: #000000\">,</span>\n",
              "<span style=\"color: #000000; text-decoration-color: #000000\">        </span><span style=\"color: #808000; text-decoration-color: #808000\">nestedProperties</span><span style=\"color: #000000; text-decoration-color: #000000\">=</span><span style=\"color: #800080; text-decoration-color: #800080; font-style: italic\">None</span><span style=\"color: #000000; text-decoration-color: #000000\">,</span>\n",
              "<span style=\"color: #000000; text-decoration-color: #000000\">        </span><span style=\"color: #808000; text-decoration-color: #808000\">skip_vectorization</span><span style=\"color: #000000; text-decoration-color: #000000\">=</span><span style=\"color: #ff0000; text-decoration-color: #ff0000; font-style: italic\">False</span><span style=\"color: #000000; text-decoration-color: #000000\">,</span>\n",
              "<span style=\"color: #000000; text-decoration-color: #000000\">        </span><span style=\"color: #808000; text-decoration-color: #808000\">tokenization</span><span style=\"color: #000000; text-decoration-color: #000000\">=</span><span style=\"color: #800080; text-decoration-color: #800080; font-style: italic\">None</span><span style=\"color: #000000; text-decoration-color: #000000\">,</span>\n",
              "<span style=\"color: #000000; text-decoration-color: #000000\">        </span><span style=\"color: #808000; text-decoration-color: #808000\">vectorize_property_name</span><span style=\"color: #000000; text-decoration-color: #000000\">=</span><span style=\"color: #00ff00; text-decoration-color: #00ff00; font-style: italic\">True</span>\n",
              "<span style=\"color: #000000; text-decoration-color: #000000\">    </span><span style=\"color: #000000; text-decoration-color: #000000; font-weight: bold\">)</span><span style=\"color: #000000; text-decoration-color: #000000\">,</span>\n",
              "<span style=\"color: #000000; text-decoration-color: #000000\">    </span><span style=\"color: #800080; text-decoration-color: #800080; font-weight: bold\">Property</span><span style=\"color: #000000; text-decoration-color: #000000; font-weight: bold\">(</span>\n",
              "<span style=\"color: #000000; text-decoration-color: #000000\">        </span><span style=\"color: #808000; text-decoration-color: #808000\">name</span><span style=\"color: #000000; text-decoration-color: #000000\">=</span><span style=\"color: #008000; text-decoration-color: #008000\">'episode_url'</span><span style=\"color: #000000; text-decoration-color: #000000\">,</span>\n",
              "<span style=\"color: #000000; text-decoration-color: #000000\">        </span><span style=\"color: #808000; text-decoration-color: #808000\">dataType</span><span style=\"color: #000000; text-decoration-color: #000000\">=&lt;DataType.TEXT: </span><span style=\"color: #008000; text-decoration-color: #008000\">'text'</span><span style=\"color: #000000; text-decoration-color: #000000\">&gt;,</span>\n",
              "<span style=\"color: #000000; text-decoration-color: #000000\">        </span><span style=\"color: #808000; text-decoration-color: #808000\">description</span><span style=\"color: #000000; text-decoration-color: #000000\">=</span><span style=\"color: #008000; text-decoration-color: #008000\">'URL of the video episode on YouTube'</span><span style=\"color: #000000; text-decoration-color: #000000\">,</span>\n",
              "<span style=\"color: #000000; text-decoration-color: #000000\">        </span><span style=\"color: #808000; text-decoration-color: #808000\">indexFilterable</span><span style=\"color: #000000; text-decoration-color: #000000\">=</span><span style=\"color: #ff0000; text-decoration-color: #ff0000; font-style: italic\">False</span><span style=\"color: #000000; text-decoration-color: #000000\">,</span>\n",
              "<span style=\"color: #000000; text-decoration-color: #000000\">        </span><span style=\"color: #808000; text-decoration-color: #808000\">indexSearchable</span><span style=\"color: #000000; text-decoration-color: #000000\">=</span><span style=\"color: #ff0000; text-decoration-color: #ff0000; font-style: italic\">False</span><span style=\"color: #000000; text-decoration-color: #000000\">,</span>\n",
              "<span style=\"color: #000000; text-decoration-color: #000000\">        </span><span style=\"color: #808000; text-decoration-color: #808000\">indexRangeFilters</span><span style=\"color: #000000; text-decoration-color: #000000\">=</span><span style=\"color: #800080; text-decoration-color: #800080; font-style: italic\">None</span><span style=\"color: #000000; text-decoration-color: #000000\">,</span>\n",
              "<span style=\"color: #000000; text-decoration-color: #000000\">        </span><span style=\"color: #808000; text-decoration-color: #808000\">nestedProperties</span><span style=\"color: #000000; text-decoration-color: #000000\">=</span><span style=\"color: #800080; text-decoration-color: #800080; font-style: italic\">None</span><span style=\"color: #000000; text-decoration-color: #000000\">,</span>\n",
              "<span style=\"color: #000000; text-decoration-color: #000000\">        </span><span style=\"color: #808000; text-decoration-color: #808000\">skip_vectorization</span><span style=\"color: #000000; text-decoration-color: #000000\">=</span><span style=\"color: #ff0000; text-decoration-color: #ff0000; font-style: italic\">False</span><span style=\"color: #000000; text-decoration-color: #000000\">,</span>\n",
              "<span style=\"color: #000000; text-decoration-color: #000000\">        </span><span style=\"color: #808000; text-decoration-color: #808000\">tokenization</span><span style=\"color: #000000; text-decoration-color: #000000\">=</span><span style=\"color: #800080; text-decoration-color: #800080; font-style: italic\">None</span><span style=\"color: #000000; text-decoration-color: #000000\">,</span>\n",
              "<span style=\"color: #000000; text-decoration-color: #000000\">        </span><span style=\"color: #808000; text-decoration-color: #808000\">vectorize_property_name</span><span style=\"color: #000000; text-decoration-color: #000000\">=</span><span style=\"color: #00ff00; text-decoration-color: #00ff00; font-style: italic\">True</span>\n",
              "<span style=\"color: #000000; text-decoration-color: #000000\">    </span><span style=\"color: #000000; text-decoration-color: #000000; font-weight: bold\">)</span><span style=\"color: #000000; text-decoration-color: #000000\">,</span>\n",
              "<span style=\"color: #000000; text-decoration-color: #000000\">    </span><span style=\"color: #800080; text-decoration-color: #800080; font-weight: bold\">Property</span><span style=\"color: #000000; text-decoration-color: #000000; font-weight: bold\">(</span>\n",
              "<span style=\"color: #000000; text-decoration-color: #000000\">        </span><span style=\"color: #808000; text-decoration-color: #808000\">name</span><span style=\"color: #000000; text-decoration-color: #000000\">=</span><span style=\"color: #008000; text-decoration-color: #008000\">'expanded_content'</span><span style=\"color: #000000; text-decoration-color: #000000\">,</span>\n",
              "<span style=\"color: #000000; text-decoration-color: #000000\">        </span><span style=\"color: #808000; text-decoration-color: #808000\">dataType</span><span style=\"color: #000000; text-decoration-color: #000000\">=&lt;DataType.TEXT: </span><span style=\"color: #008000; text-decoration-color: #008000\">'text'</span><span style=\"font-weight: bold\">&gt;</span>,\n",
              "        <span style=\"color: #808000; text-decoration-color: #808000\">description</span>=<span style=\"color: #008000; text-decoration-color: #008000\">'Expanded window of the content field for additional context'</span>,\n",
              "        <span style=\"color: #808000; text-decoration-color: #808000\">indexFilterable</span>=<span style=\"color: #ff0000; text-decoration-color: #ff0000; font-style: italic\">False</span>,\n",
              "        <span style=\"color: #808000; text-decoration-color: #808000\">indexSearchable</span>=<span style=\"color: #00ff00; text-decoration-color: #00ff00; font-style: italic\">True</span>,\n",
              "        <span style=\"color: #808000; text-decoration-color: #808000\">indexRangeFilters</span>=<span style=\"color: #800080; text-decoration-color: #800080; font-style: italic\">None</span>,\n",
              "        <span style=\"color: #808000; text-decoration-color: #808000\">nestedProperties</span>=<span style=\"color: #800080; text-decoration-color: #800080; font-style: italic\">None</span>,\n",
              "        <span style=\"color: #808000; text-decoration-color: #808000\">skip_vectorization</span>=<span style=\"color: #ff0000; text-decoration-color: #ff0000; font-style: italic\">False</span>,\n",
              "        <span style=\"color: #808000; text-decoration-color: #808000\">tokenization</span>=<span style=\"color: #800080; text-decoration-color: #800080; font-style: italic\">None</span>,\n",
              "        <span style=\"color: #808000; text-decoration-color: #808000\">vectorize_property_name</span>=<span style=\"color: #00ff00; text-decoration-color: #00ff00; font-style: italic\">True</span>\n",
              "    <span style=\"font-weight: bold\">)</span>\n",
              "<span style=\"font-weight: bold\">]</span>\n",
              "</pre>\n"
            ]
          },
          "metadata": {}
        }
      ],
      "source": [
        "print(properties)"
      ]
    },
    {
      "cell_type": "code",
      "source": [
        "from google.colab import userdata\n",
        "api_key = userdata.get('WEAVIATE_API_KEY')\n",
        "url = userdata.get('WEAVIATE_ENDPOINT')"
      ],
      "metadata": {
        "id": "i7Csfw3yGFlX"
      },
      "id": "i7Csfw3yGFlX",
      "execution_count": 30,
      "outputs": []
    },
    {
      "cell_type": "code",
      "execution_count": 33,
      "id": "e9fc57b8",
      "metadata": {
        "id": "e9fc57b8"
      },
      "outputs": [],
      "source": [
        "from src.database.weaviate_interface_v4 import WeaviateIndexer\n",
        "\n",
        "#read env vars from local .env file\n",
        "# api_key = os.environ['WEAVIATE_API_KEY']\n",
        "# url = os.environ['WEAVIATE_ENDPOINT']\n",
        "model_path = 'sentence-transformers/all-MiniLM-L6-v2'\n",
        "\n",
        "#instantiate client\n",
        "client = WeaviateWCS(endpoint=url, api_key=api_key, model_name_or_path=model_path)\n",
        "\n",
        "#example of using the private _client attribute\n",
        "client._client.is_connected()\n",
        "\n",
        "collection_name = \"Huberman_minilm_256_expanded\"\n"
      ]
    },
    {
      "cell_type": "code",
      "source": [
        "client.show_all_collections()"
      ],
      "metadata": {
        "colab": {
          "base_uri": "https://localhost:8080/"
        },
        "id": "ggoWSB1WGapv",
        "outputId": "4e013122-845d-4000-8e28-648c0ca7fc39"
      },
      "id": "ggoWSB1WGapv",
      "execution_count": 34,
      "outputs": [
        {
          "output_type": "execute_result",
          "data": {
            "text/plain": [
              "['Huberman_minilm_256']"
            ]
          },
          "metadata": {},
          "execution_count": 34
        }
      ]
    },
    {
      "cell_type": "code",
      "execution_count": 35,
      "id": "fcf3d97e",
      "metadata": {
        "colab": {
          "base_uri": "https://localhost:8080/"
        },
        "id": "fcf3d97e",
        "outputId": "18c7cca8-2a6c-4ea9-f660-c8e400e49adf"
      },
      "outputs": [
        {
          "output_type": "stream",
          "name": "stdout",
          "text": [
            "Collection \"Huberman_minilm_256_expanded\" created\n"
          ]
        }
      ],
      "source": [
        "client.create_collection(collection_name=collection_name, properties=properties, description='Huberman Labs: 193 full-length transcripts')"
      ]
    },
    {
      "cell_type": "code",
      "execution_count": 36,
      "id": "1e42e348",
      "metadata": {
        "colab": {
          "base_uri": "https://localhost:8080/"
        },
        "id": "1e42e348",
        "outputId": "978a759e-356c-4bda-f12d-1e05ab92c502"
      },
      "outputs": [
        {
          "output_type": "stream",
          "name": "stderr",
          "text": [
            " 89%|████████▉ | 20607/23123 [00:54<00:11, 225.33it/s]ERROR:weaviate-client:{'message': 'Failed to send 1000 objects in a batch of 1000. Please inspect client.batch.failed_objects or collection.batch.failed_objects for the failed objects.'}\n",
            " 90%|████████▉ | 20706/23123 [00:55<00:06, 374.08it/s]\n"
          ]
        },
        {
          "output_type": "stream",
          "name": "stdout",
          "text": [
            "Upload errors exceed error_threshold...\n"
          ]
        },
        {
          "output_type": "stream",
          "name": "stderr",
          "text": [
            "ERROR:weaviate-client:{'message': 'Failed to send 1000 objects in a batch of 1000. Please inspect client.batch.failed_objects or collection.batch.failed_objects for the failed objects.'}\n"
          ]
        },
        {
          "output_type": "stream",
          "name": "stdout",
          "text": [
            "Processing finished in 1.17 minutes.\n",
            "Batch job failed. Review errors using these keys: ['num_errors', 'error_messages', 'doc_ids']\n"
          ]
        }
      ],
      "source": [
        "indexer = WeaviateIndexer(client)\n",
        "batch_object = indexer.batch_index_data(data, collection_name)"
      ]
    },
    {
      "cell_type": "markdown",
      "id": "b4d9822c-5d7c-4f57-8719-902f65123c65",
      "metadata": {
        "id": "b4d9822c-5d7c-4f57-8719-902f65123c65"
      },
      "source": [
        "## Conclusion\n",
        "---\n",
        "After you've indexed the data you will now have a way to retrieve content on a fine-grained level, and provide your LLM Reader with an expanded context.  You will be able to see this in action when you add `expanded_content` as a `return_property` in your Streamlit UI. 🎉  \n",
        "\n",
        "However, the important idea here is how does adding expanded content affect your RAG system performance?  Assuming you completed Notebook 5 you now have the means at your disposal of running an evaluation with the Reader LLM ingesting the `expanded_content` field as context instead of the `content` field. Setting up your own evaluation will be a good exercise in understanding how all of these pieces are put together.  You'll note that the function used to build the user message at run time `generate_prompt_series` as well as the  `create_context_blocks` function have a `content_key` parameter.  You will want to pass in `expanded_content` as an argument here instead of `content`."
      ]
    },
    {
      "cell_type": "markdown",
      "id": "a3ea8276-f8b1-4f8f-b76d-25d66d3d09ae",
      "metadata": {
        "id": "a3ea8276-f8b1-4f8f-b76d-25d66d3d09ae"
      },
      "source": [
        "## OPTIONAL: Update an existing Collection\n",
        "---\n",
        "For those interested in doing things the hard way here is some starter code.  No guarantee that this code will work as written, but it gives you the idea of how you would accomplish this task; or just create a new Collection... 😀:"
      ]
    },
    {
      "cell_type": "code",
      "execution_count": null,
      "id": "ac81c228-d7d9-4db7-8cf7-5ec4fa326594",
      "metadata": {
        "id": "ac81c228-d7d9-4db7-8cf7-5ec4fa326594"
      },
      "outputs": [],
      "source": [
        "# get collection object\n",
        "api_key = os.environ['WEAVIATE_API_KEY']\n",
        "endpoint = os.environ['WEAVIATE_ENDPOINT']\n",
        "\n",
        "client = WeaviateWCS(endpoint, api_key)\n",
        "collection = client._client.collections.get('Huberman_minilm_256')"
      ]
    },
    {
      "cell_type": "code",
      "execution_count": null,
      "id": "2fde8c03-0d00-43c5-a837-80b2597c8edd",
      "metadata": {
        "id": "2fde8c03-0d00-43c5-a837-80b2597c8edd"
      },
      "outputs": [],
      "source": [
        "# This step will take a few minutes to read every object id on the Weaviate cluster\n",
        "doc_id_cache = {item.properties['doc_id']:item.uuid for item in tqdm(collection.iterator())}"
      ]
    },
    {
      "cell_type": "markdown",
      "id": "49c13cc3-c9bd-4a59-bc1c-a2c79dc93b03",
      "metadata": {
        "id": "49c13cc3-c9bd-4a59-bc1c-a2c79dc93b03"
      },
      "source": [
        "`doc_id_cache` example:\n",
        "```\n",
        "{'-OBCwiPPfEU_8': _WeaviateUUIDInt('018455e9-47ab-41cc-b592-c431fd8df75f'),\n",
        " '-OBCwiPPfEU_4': _WeaviateUUIDInt('03a18709-0334-4f18-9375-4a8a3f162cfb'),\n",
        " '-OBCwiPPfEU_0': _WeaviateUUIDInt('0da24442-3263-46d7-91af-ef2a34d27a9c'),\n",
        " '-OBCwiPPfEU_1': _WeaviateUUIDInt('219354b1-dd2e-46c0-94cb-cdd51f915175'),\n",
        " '-OBCwiPPfEU_6': _WeaviateUUIDInt('27f967f2-3e9c-453d-8d21-378e4e15ffac'),\n",
        " '-OBCwiPPfEU_7': _WeaviateUUIDInt('332a363f-afcf-4fb7-9370-bbded23b8803'),\n",
        " '-OBCwiPPfEU_3': _WeaviateUUIDInt('59c539ac-8f95-4b13-bb6c-1fb323d7e64a'),\n",
        " '-OBCwiPPfEU_2': _WeaviateUUIDInt('746401bd-98c2-4494-ba08-d1b21d9abfc5'),\n",
        " '-OBCwiPPfEU_9': _WeaviateUUIDInt('77a3a7ae-8d77-4ae5-a0cd-705fb4286198'),\n",
        " '-OBCwiPPfEU_5': _WeaviateUUIDInt('803d2756-e3bd-44ef-88e6-43bc700be480')}\n",
        "```"
      ]
    },
    {
      "cell_type": "markdown",
      "id": "539cfe19-6b67-4e5f-8ef2-e5d1de1b43e8",
      "metadata": {
        "id": "539cfe19-6b67-4e5f-8ef2-e5d1de1b43e8"
      },
      "source": [
        "##### Finally you'll want to loop through your dataset, grab the doc_id value and expanded_content value and then update each object on the Weaviate cluster by using the uuid as found on the doc_id_cache"
      ]
    },
    {
      "cell_type": "code",
      "execution_count": null,
      "id": "3e252b3e-ddb7-440e-adf5-1121f52d1300",
      "metadata": {
        "id": "3e252b3e-ddb7-440e-adf5-1121f52d1300"
      },
      "outputs": [],
      "source": [
        "#Because this is not batched, expect this process to run for several minutes\n",
        "for d in tqdm(data):\n",
        "    doc_id = d['doc_id']\n",
        "    expanded_content = d['expanded_content']\n",
        "    uuid = doc_id_cache[doc_id]\n",
        "    collection.data.update(uuid=uuid, properties={'expanded_content': expanded_content})"
      ]
    }
  ],
  "metadata": {
    "kernelspec": {
      "display_name": "Python 3",
      "language": "python",
      "name": "python3"
    },
    "language_info": {
      "codemirror_mode": {
        "name": "ipython",
        "version": 3
      },
      "file_extension": ".py",
      "mimetype": "text/x-python",
      "name": "python",
      "nbconvert_exporter": "python",
      "pygments_lexer": "ipython3",
      "version": "3.10.15"
    },
    "colab": {
      "provenance": [],
      "include_colab_link": true
    }
  },
  "nbformat": 4,
  "nbformat_minor": 5
}
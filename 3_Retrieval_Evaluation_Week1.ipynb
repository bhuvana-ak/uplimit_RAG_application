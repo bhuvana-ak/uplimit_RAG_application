{
  "cells": [
    {
      "cell_type": "markdown",
      "metadata": {
        "id": "view-in-github",
        "colab_type": "text"
      },
      "source": [
        "<a href=\"https://colab.research.google.com/github/bhuvana-ak/uplimit_RAG_application/blob/main/3_Retrieval_Evaluation_Week1.ipynb\" target=\"_parent\"><img src=\"https://colab.research.google.com/assets/colab-badge.svg\" alt=\"Open In Colab\"/></a>"
      ]
    },
    {
      "cell_type": "markdown",
      "id": "7d49f27a-15ba-4176-bf6d-211051a8cef6",
      "metadata": {
        "id": "7d49f27a-15ba-4176-bf6d-211051a8cef6"
      },
      "source": [
        "#### Week 1: Building Advanced RAG Applications.  Authored by Chris Sanchez."
      ]
    },
    {
      "cell_type": "markdown",
      "id": "b8a48d4e-11e4-45b5-8cfc-f595d61e11bd",
      "metadata": {
        "id": "b8a48d4e-11e4-45b5-8cfc-f595d61e11bd"
      },
      "source": [
        "# Week 1 - Notebook 3\n",
        "\n",
        "# Overview\n",
        "***\n",
        "Welcome to the final notebook for Week 1! Take a look at all the ground we've covered so far:\n",
        "- Chunking/splitting\n",
        "- Text vectorization\n",
        "- Combining metadata\n",
        "- Collection Configuration\n",
        "- Data Indexing\n",
        "- Keyword search\n",
        "- Vector search\n",
        "- OPTIONAL: Searching with Filters\n",
        "\n",
        "We are now prepared to move on to a very important topic, **Retrieval Evaluation**.  I hope you've noticed that the search results will differ (sometimes slightly, sometimes by a lot) depeding on which search method you used: `keyword_search` or `vector_search`.  As humans, it's fairly easy for us to determine whether the returned search results are relevant to the query that was submitted, (though even here there will be differing opinions on result relevance).  But how do we systematically determine which search method is better in general?  And how do we measure the relative performance of our retrieval system if we change one of it's parameters...for example, changing our embedding model? What about measuring system performance over time as more documents are added to our datastore?\n",
        "\n",
        "We need a way to evaluate our retrieval system, and this notebook will show you \"one way\" of doing that.  I say \"one way\" because there are many ways to approach this problem, and the method I'm showing you is not perfect (if anything it's a bit too conservative).  Ultimately, measuring retrieval performance is hard because it requires a lot of time and effort, and absent any user [click-data](https://en.wikipedia.org/wiki/Click_tracking), requires some form of data labeling.  With the advent of powerful generative LLMs the process of measuring retrieval performance has become much easier. Let's take a look at how that works.\n",
        "\n",
        "# Retrieval Evaluation - Process\n",
        "***\n",
        "Here's a high-level overview of how the Retrieval Evaluation process in this notebook works:\n",
        "\n",
        "1. Generate a \"golden dataset\" of query-context pairs.  I've already pre-generated multiple golden datasets for our course. I randomly selected 100 document chunks (contexts) from the Huberman Lab corpus and those chunks were then submitted to the `gpt-3.5-turbo` model which generated queries that can be answered by the context.  The output was 100 query-context pairs along with their associated doc_ids.\n",
        "   - **Baseline Assumptions**:\n",
        "     - The generated query-context pairs are, in fact, relevant to one another i.e. the query can be answered by the context that it's paired with\n",
        "     - The generated queries are simliar in style and length to the type of queries that end users would ask\n",
        "2. The golden dataset consists of three primary keys: `corpus`, `relevant_docs`, and `queries`\n",
        "     - The `corpus` is the original text context/chunk with it's associated `doc_id`\n",
        "     - The `queries` are the LLM generated queries, one (or more) for each entry in the `corpus`\n",
        "     - The `relevant_docs` is a simple lookup table linking the `corpus` docs to the generated `queries`\n",
        "3. We pass the golden dataset into a retrieval evluation function which does the following:\n",
        "   - Takes in a `retriever` arg (`WeaviateWCS`) and a few other configuration params\n",
        "   - Iterates over all queries in the golden dataset and retrieves search results for each query from the Weaviate datastore\n",
        "   - Extracts all `doc_id` values from the retrieved results\n",
        "   - Extracts the `doc_id` from the associated `relevant_docs` for each query\n",
        "   - Checks if the relevant doc_id is in the list of retrieved result doc_ids\n",
        "   - After all queries are completed a `hit_rate` score and `mrr` score are calculated for the entire golden dataset\n",
        "   - Writes results to an `eval_results` folder\n",
        "\n",
        "#### In a Nutshell\n",
        "Ulitmately, given a golden dataset consisting of queries, relevant docs, and their associated doc_ids, the `retrieval_evaluation` function is checking if the relevant `doc_id` is found in the list of retrieved results `doc_ids`, for each query.\n",
        "\n",
        "#### Problems with this Approach\n",
        "The problems with this approach are many, I'll cover a few here:\n",
        "- The **Assumptions** (see section 1 above) about the golden dataset must hold true.  Given that the pairs are generated by `gpt-3.5-turbo`, I think the first assumption will generally be true.  When reviewing the dataset I did find a few questions that were not answerable given the context, but for the most part they were.  The 2nd assumption though, is going to be dependent on your particular search use case.  I think for the purposes of this course, the questions generated are a decent reflection of how someone would query this dataset, and therefore do the job of measuring retriever performance.  But I would always check a real-world query distribution before using an approach like the one presented here.\n",
        "- This approach is conversative in that there is only \"one\" right answer.  Either the relevant `doc_id` is in the results list or it isn't.  In reality, there are going to be several documents that could potentially answer the generated query, but we would have to use other relevance evalauation methods to account for these documents, unless of course, we want to manually add doc_ids to the golden dataset (and depending on your business case, you may actually want to do that).\n",
        "- We aren't measuring recall or precision because we aren't classifying other documents as \"negatives\".  As was just mentioned, the other documents in the results list may or may not be good matches, we just don't know.  Because we don't know, we can't really classify the other documents as \"negatives\".  So for this approach, we are measuring the [\"hit rate\"](https://uplimit.com/course/rag-applications/session/session_clzlsa20a01di197e4tij7vgm/module/module_clzlsa5qo02bh1dm698ip60sm#corise_clp66zqui003j2a77u8lnrk5b) which is simply a count of the number of times that we found a relevant `doc_id` match in the results list and [Mean Reciprocal Rank (MRR)](https://uplimit.com/course/rag-applications/session/session_clzlsa20a01di197e4tij7vgm/module/module_clzlsa5qo02bh1dm698ip60sm#corise_clp66zqui003j2a77u8lnrk5b).  We're using MRR instead of other metrics such as Mean Average Precision (MAP) because we are only looking at a [single relevant answer](https://stats.stackexchange.com/questions/127041/mean-average-precision-vs-mean-reciprocal-rank).  Hit rate is a good enough metric for determining if our retriever is retrieving quality results, and MRR will become more important later on when we add a Reranker to the mix.  "
      ]
    },
    {
      "cell_type": "code",
      "source": [
        "!pip install python-dotenv==0.21.0\n",
        "!pip install loguru==0.6.0\n",
        "!pip install weaviate-client==4.9.3\n"
      ],
      "metadata": {
        "colab": {
          "base_uri": "https://localhost:8080/"
        },
        "id": "baOc1igESDN0",
        "outputId": "adb85950-46ad-4928-8e0b-aab3f8998845"
      },
      "id": "baOc1igESDN0",
      "execution_count": 77,
      "outputs": [
        {
          "output_type": "stream",
          "name": "stdout",
          "text": [
            "Requirement already satisfied: python-dotenv==0.21.0 in /usr/local/lib/python3.10/dist-packages (0.21.0)\n",
            "Requirement already satisfied: loguru==0.6.0 in /usr/local/lib/python3.10/dist-packages (0.6.0)\n",
            "Requirement already satisfied: weaviate-client==4.9.3 in /usr/local/lib/python3.10/dist-packages (4.9.3)\n",
            "Requirement already satisfied: requests<3.0.0,>=2.30.0 in /usr/local/lib/python3.10/dist-packages (from weaviate-client==4.9.3) (2.32.3)\n",
            "Requirement already satisfied: httpx<=0.27.0,>=0.25.0 in /usr/local/lib/python3.10/dist-packages (from weaviate-client==4.9.3) (0.27.0)\n",
            "Requirement already satisfied: validators==0.34.0 in /usr/local/lib/python3.10/dist-packages (from weaviate-client==4.9.3) (0.34.0)\n",
            "Requirement already satisfied: authlib<1.3.2,>=1.2.1 in /usr/local/lib/python3.10/dist-packages (from weaviate-client==4.9.3) (1.3.1)\n",
            "Requirement already satisfied: pydantic<3.0.0,>=2.5.0 in /usr/local/lib/python3.10/dist-packages (from weaviate-client==4.9.3) (2.10.3)\n",
            "Requirement already satisfied: grpcio<2.0.0,>=1.57.0 in /usr/local/lib/python3.10/dist-packages (from weaviate-client==4.9.3) (1.68.1)\n",
            "Requirement already satisfied: grpcio-tools<2.0.0,>=1.57.0 in /usr/local/lib/python3.10/dist-packages (from weaviate-client==4.9.3) (1.68.1)\n",
            "Requirement already satisfied: grpcio-health-checking<2.0.0,>=1.57.0 in /usr/local/lib/python3.10/dist-packages (from weaviate-client==4.9.3) (1.68.1)\n",
            "Requirement already satisfied: cryptography in /usr/local/lib/python3.10/dist-packages (from authlib<1.3.2,>=1.2.1->weaviate-client==4.9.3) (43.0.3)\n",
            "Requirement already satisfied: protobuf<6.0dev,>=5.26.1 in /usr/local/lib/python3.10/dist-packages (from grpcio-health-checking<2.0.0,>=1.57.0->weaviate-client==4.9.3) (5.29.1)\n",
            "Requirement already satisfied: setuptools in /usr/local/lib/python3.10/dist-packages (from grpcio-tools<2.0.0,>=1.57.0->weaviate-client==4.9.3) (75.1.0)\n",
            "Requirement already satisfied: anyio in /usr/local/lib/python3.10/dist-packages (from httpx<=0.27.0,>=0.25.0->weaviate-client==4.9.3) (3.7.1)\n",
            "Requirement already satisfied: certifi in /usr/local/lib/python3.10/dist-packages (from httpx<=0.27.0,>=0.25.0->weaviate-client==4.9.3) (2024.8.30)\n",
            "Requirement already satisfied: httpcore==1.* in /usr/local/lib/python3.10/dist-packages (from httpx<=0.27.0,>=0.25.0->weaviate-client==4.9.3) (1.0.7)\n",
            "Requirement already satisfied: idna in /usr/local/lib/python3.10/dist-packages (from httpx<=0.27.0,>=0.25.0->weaviate-client==4.9.3) (3.10)\n",
            "Requirement already satisfied: sniffio in /usr/local/lib/python3.10/dist-packages (from httpx<=0.27.0,>=0.25.0->weaviate-client==4.9.3) (1.3.1)\n",
            "Requirement already satisfied: h11<0.15,>=0.13 in /usr/local/lib/python3.10/dist-packages (from httpcore==1.*->httpx<=0.27.0,>=0.25.0->weaviate-client==4.9.3) (0.14.0)\n",
            "Requirement already satisfied: annotated-types>=0.6.0 in /usr/local/lib/python3.10/dist-packages (from pydantic<3.0.0,>=2.5.0->weaviate-client==4.9.3) (0.7.0)\n",
            "Requirement already satisfied: pydantic-core==2.27.1 in /usr/local/lib/python3.10/dist-packages (from pydantic<3.0.0,>=2.5.0->weaviate-client==4.9.3) (2.27.1)\n",
            "Requirement already satisfied: typing-extensions>=4.12.2 in /usr/local/lib/python3.10/dist-packages (from pydantic<3.0.0,>=2.5.0->weaviate-client==4.9.3) (4.12.2)\n",
            "Requirement already satisfied: charset-normalizer<4,>=2 in /usr/local/lib/python3.10/dist-packages (from requests<3.0.0,>=2.30.0->weaviate-client==4.9.3) (3.4.0)\n",
            "Requirement already satisfied: urllib3<3,>=1.21.1 in /usr/local/lib/python3.10/dist-packages (from requests<3.0.0,>=2.30.0->weaviate-client==4.9.3) (2.2.3)\n",
            "Requirement already satisfied: exceptiongroup in /usr/local/lib/python3.10/dist-packages (from anyio->httpx<=0.27.0,>=0.25.0->weaviate-client==4.9.3) (1.2.2)\n",
            "Requirement already satisfied: cffi>=1.12 in /usr/local/lib/python3.10/dist-packages (from cryptography->authlib<1.3.2,>=1.2.1->weaviate-client==4.9.3) (1.17.1)\n",
            "Requirement already satisfied: pycparser in /usr/local/lib/python3.10/dist-packages (from cffi>=1.12->cryptography->authlib<1.3.2,>=1.2.1->weaviate-client==4.9.3) (2.22)\n",
            "  % Total    % Received % Xferd  Average Speed   Time    Time     Time  Current\n",
            "                                 Dload  Upload   Total   Spent    Left  Speed\n",
            "100    14  100    14    0     0     77      0 --:--:-- --:--:-- --:--:--    77\n"
          ]
        }
      ]
    },
    {
      "cell_type": "code",
      "source": [
        "!curl -o golden_256.json https://raw.githubusercontent.com/americanthinker/rag-applications/data/golden_datasets/golden_256.json"
      ],
      "metadata": {
        "colab": {
          "base_uri": "https://localhost:8080/"
        },
        "id": "apRq5I9aNaxz",
        "outputId": "c1b15f4a-4cd6-4cf8-a01b-67c793e5ad3f"
      },
      "id": "apRq5I9aNaxz",
      "execution_count": 126,
      "outputs": [
        {
          "output_type": "stream",
          "name": "stdout",
          "text": [
            "  % Total    % Received % Xferd  Average Speed   Time    Time     Time  Current\n",
            "                                 Dload  Upload   Total   Spent    Left  Speed\n",
            "\r  0     0    0     0    0     0      0      0 --:--:-- --:--:-- --:--:--     0\r100    14  100    14    0     0     81      0 --:--:-- --:--:-- --:--:--    81\n"
          ]
        }
      ]
    },
    {
      "cell_type": "code",
      "source": [
        "!curl -o data/golden_datasets/golden_128.txt https://raw.githubusercontent.com/americanthinker/rag-applications/data/golden_datasets/golden_128.json\n",
        "!curl -o data/golden_datasets/golden_256.txt https://raw.githubusercontent.com/americanthinker/rag-applications/data/golden_datasets/golden_256.json\n",
        "!curl -o data/golden_datasets/golden_512.txt https://raw.githubusercontent.com/americanthinker/rag-applications/data/golden_datasets/golden_512.json"
      ],
      "metadata": {
        "colab": {
          "base_uri": "https://localhost:8080/"
        },
        "id": "26uBJ-7uUSmJ",
        "outputId": "23f8f014-5bf7-47b9-8b53-970d4b06690d"
      },
      "id": "26uBJ-7uUSmJ",
      "execution_count": 151,
      "outputs": [
        {
          "output_type": "stream",
          "name": "stdout",
          "text": [
            "  % Total    % Received % Xferd  Average Speed   Time    Time     Time  Current\n",
            "                                 Dload  Upload   Total   Spent    Left  Speed\n",
            "100    14  100    14    0     0    130      0 --:--:-- --:--:-- --:--:--   130\n",
            "  % Total    % Received % Xferd  Average Speed   Time    Time     Time  Current\n",
            "                                 Dload  Upload   Total   Spent    Left  Speed\n",
            "100    14  100    14    0     0     49      0 --:--:-- --:--:-- --:--:--    49\n",
            "  % Total    % Received % Xferd  Average Speed   Time    Time     Time  Current\n",
            "                                 Dload  Upload   Total   Spent    Left  Speed\n",
            "100    14  100    14    0     0    137      0 --:--:-- --:--:-- --:--:--   138\n"
          ]
        }
      ]
    },
    {
      "cell_type": "code",
      "source": [
        "!curl -o src/preprocessor/preprocessing.py https://raw.githubusercontent.com/americanthinker/rag-applications/main/src/preprocessor/preprocessing.py\n",
        "\n",
        "!curl -o src/database/weaviate_interface_v4.py https://raw.githubusercontent.com/americanthinker/rag-applications/main/src/database/weaviate_interface_v4.py\n",
        "\n",
        "!curl -o src/evaluation/retrieval_evaluation.py https://raw.githubusercontent.com/americanthinker/rag-applications/main/src/evaluation/retrieval_evaluation.py\n",
        "!curl -o src/evaluation/eval_prompt_templates.py https://raw.githubusercontent.com/americanthinker/rag-applications/main/src/evaluation/eval_prompt_templates.py\n"
      ],
      "metadata": {
        "colab": {
          "base_uri": "https://localhost:8080/"
        },
        "id": "QO0xiekC9gLH",
        "outputId": "e8964c96-82da-4df5-c0c0-8b6feaffcc51"
      },
      "id": "QO0xiekC9gLH",
      "execution_count": 91,
      "outputs": [
        {
          "output_type": "stream",
          "name": "stdout",
          "text": [
            "  % Total    % Received % Xferd  Average Speed   Time    Time     Time  Current\n",
            "                                 Dload  Upload   Total   Spent    Left  Speed\n",
            "100  5501  100  5501    0     0  50241      0 --:--:-- --:--:-- --:--:-- 50467\n",
            "  % Total    % Received % Xferd  Average Speed   Time    Time     Time  Current\n",
            "                                 Dload  Upload   Total   Spent    Left  Speed\n",
            "100 21404  100 21404    0     0   175k      0 --:--:-- --:--:-- --:--:--  175k\n",
            "  % Total    % Received % Xferd  Average Speed   Time    Time     Time  Current\n",
            "                                 Dload  Upload   Total   Spent    Left  Speed\n",
            "100 25913  100 25913    0     0   188k      0 --:--:-- --:--:-- --:--:--  190k\n",
            "  % Total    % Received % Xferd  Average Speed   Time    Time     Time  Current\n",
            "                                 Dload  Upload   Total   Spent    Left  Speed\n",
            "100  9465  100  9465    0     0  87547      0 --:--:-- --:--:-- --:--:-- 87638\n"
          ]
        }
      ]
    },
    {
      "cell_type": "code",
      "source": [
        "!curl -o src/reranker.py https://raw.githubusercontent.com/americanthinker/rag-applications/main/src/reranker.py\n"
      ],
      "metadata": {
        "colab": {
          "base_uri": "https://localhost:8080/"
        },
        "id": "GHqeuVAXEfPw",
        "outputId": "82925c7e-b530-41bc-9d45-1765e9cac73f"
      },
      "id": "GHqeuVAXEfPw",
      "execution_count": 84,
      "outputs": [
        {
          "output_type": "stream",
          "name": "stdout",
          "text": [
            "  % Total    % Received % Xferd  Average Speed   Time    Time     Time  Current\n",
            "                                 Dload  Upload   Total   Spent    Left  Speed\n",
            "100  3700  100  3700    0     0  17995      0 --:--:-- --:--:-- --:--:-- 17961\n"
          ]
        }
      ]
    },
    {
      "cell_type": "code",
      "source": [
        "!curl -o src/data_models.py https://raw.githubusercontent.com/americanthinker/rag-applications/main/src/data_models.py\n"
      ],
      "metadata": {
        "colab": {
          "base_uri": "https://localhost:8080/"
        },
        "id": "r_mcxiXBE7Hs",
        "outputId": "25d154e4-d266-45a4-c197-ccde388350a9"
      },
      "id": "r_mcxiXBE7Hs",
      "execution_count": 88,
      "outputs": [
        {
          "output_type": "stream",
          "name": "stdout",
          "text": [
            "  % Total    % Received % Xferd  Average Speed   Time    Time     Time  Current\n",
            "                                 Dload  Upload   Total   Spent    Left  Speed\n",
            "100  1611  100  1611    0     0   7601      0 --:--:-- --:--:-- --:--:--  7635\n"
          ]
        }
      ]
    },
    {
      "cell_type": "code",
      "source": [
        "!curl -o src/llm/prompt_templates.py https://raw.githubusercontent.com/americanthinker/rag-applications/main/src/llm/prompt_templates.py\n",
        "!curl -o src/llm/llm_interface.py https://raw.githubusercontent.com/americanthinker/rag-applications/main/src/llm/llm_interface.py"
      ],
      "metadata": {
        "colab": {
          "base_uri": "https://localhost:8080/"
        },
        "id": "I8EJMWJx96QV",
        "outputId": "1e1aa9d8-521f-43ce-846a-a0e2f27c06f5"
      },
      "id": "I8EJMWJx96QV",
      "execution_count": 79,
      "outputs": [
        {
          "output_type": "stream",
          "name": "stdout",
          "text": [
            "  % Total    % Received % Xferd  Average Speed   Time    Time     Time  Current\n",
            "                                 Dload  Upload   Total   Spent    Left  Speed\n",
            "100  4306  100  4306    0     0  25031      0 --:--:-- --:--:-- --:--:-- 25181\n",
            "  % Total    % Received % Xferd  Average Speed   Time    Time     Time  Current\n",
            "                                 Dload  Upload   Total   Spent    Left  Speed\n",
            "100  5940  100  5940    0     0  29903      0 --:--:-- --:--:-- --:--:-- 30000\n"
          ]
        }
      ]
    },
    {
      "cell_type": "code",
      "source": [
        "!pip install litellm"
      ],
      "metadata": {
        "colab": {
          "base_uri": "https://localhost:8080/"
        },
        "collapsed": true,
        "id": "CpOg-tfD-Suj",
        "outputId": "8d1c666f-e977-40d0-ae6d-b1e4f78eb7b8"
      },
      "id": "CpOg-tfD-Suj",
      "execution_count": 80,
      "outputs": [
        {
          "output_type": "stream",
          "name": "stdout",
          "text": [
            "Requirement already satisfied: litellm in /usr/local/lib/python3.10/dist-packages (1.54.1)\n",
            "Requirement already satisfied: aiohttp in /usr/local/lib/python3.10/dist-packages (from litellm) (3.11.9)\n",
            "Requirement already satisfied: click in /usr/local/lib/python3.10/dist-packages (from litellm) (8.1.7)\n",
            "Requirement already satisfied: httpx<0.28.0,>=0.23.0 in /usr/local/lib/python3.10/dist-packages (from litellm) (0.27.0)\n",
            "Requirement already satisfied: importlib-metadata>=6.8.0 in /usr/local/lib/python3.10/dist-packages (from litellm) (8.5.0)\n",
            "Requirement already satisfied: jinja2<4.0.0,>=3.1.2 in /usr/local/lib/python3.10/dist-packages (from litellm) (3.1.4)\n",
            "Requirement already satisfied: jsonschema<5.0.0,>=4.22.0 in /usr/local/lib/python3.10/dist-packages (from litellm) (4.23.0)\n",
            "Requirement already satisfied: openai>=1.55.3 in /usr/local/lib/python3.10/dist-packages (from litellm) (1.57.2)\n",
            "Requirement already satisfied: pydantic<3.0.0,>=2.0.0 in /usr/local/lib/python3.10/dist-packages (from litellm) (2.10.3)\n",
            "Requirement already satisfied: python-dotenv>=0.2.0 in /usr/local/lib/python3.10/dist-packages (from litellm) (0.21.0)\n",
            "Requirement already satisfied: requests<3.0.0,>=2.31.0 in /usr/local/lib/python3.10/dist-packages (from litellm) (2.32.3)\n",
            "Requirement already satisfied: tiktoken>=0.7.0 in /usr/local/lib/python3.10/dist-packages (from litellm) (0.8.0)\n",
            "Requirement already satisfied: tokenizers in /usr/local/lib/python3.10/dist-packages (from litellm) (0.20.3)\n",
            "Requirement already satisfied: anyio in /usr/local/lib/python3.10/dist-packages (from httpx<0.28.0,>=0.23.0->litellm) (3.7.1)\n",
            "Requirement already satisfied: certifi in /usr/local/lib/python3.10/dist-packages (from httpx<0.28.0,>=0.23.0->litellm) (2024.8.30)\n",
            "Requirement already satisfied: httpcore==1.* in /usr/local/lib/python3.10/dist-packages (from httpx<0.28.0,>=0.23.0->litellm) (1.0.7)\n",
            "Requirement already satisfied: idna in /usr/local/lib/python3.10/dist-packages (from httpx<0.28.0,>=0.23.0->litellm) (3.10)\n",
            "Requirement already satisfied: sniffio in /usr/local/lib/python3.10/dist-packages (from httpx<0.28.0,>=0.23.0->litellm) (1.3.1)\n",
            "Requirement already satisfied: h11<0.15,>=0.13 in /usr/local/lib/python3.10/dist-packages (from httpcore==1.*->httpx<0.28.0,>=0.23.0->litellm) (0.14.0)\n",
            "Requirement already satisfied: zipp>=3.20 in /usr/local/lib/python3.10/dist-packages (from importlib-metadata>=6.8.0->litellm) (3.21.0)\n",
            "Requirement already satisfied: MarkupSafe>=2.0 in /usr/local/lib/python3.10/dist-packages (from jinja2<4.0.0,>=3.1.2->litellm) (3.0.2)\n",
            "Requirement already satisfied: attrs>=22.2.0 in /usr/local/lib/python3.10/dist-packages (from jsonschema<5.0.0,>=4.22.0->litellm) (24.2.0)\n",
            "Requirement already satisfied: jsonschema-specifications>=2023.03.6 in /usr/local/lib/python3.10/dist-packages (from jsonschema<5.0.0,>=4.22.0->litellm) (2024.10.1)\n",
            "Requirement already satisfied: referencing>=0.28.4 in /usr/local/lib/python3.10/dist-packages (from jsonschema<5.0.0,>=4.22.0->litellm) (0.35.1)\n",
            "Requirement already satisfied: rpds-py>=0.7.1 in /usr/local/lib/python3.10/dist-packages (from jsonschema<5.0.0,>=4.22.0->litellm) (0.22.3)\n",
            "Requirement already satisfied: distro<2,>=1.7.0 in /usr/local/lib/python3.10/dist-packages (from openai>=1.55.3->litellm) (1.9.0)\n",
            "Requirement already satisfied: jiter<1,>=0.4.0 in /usr/local/lib/python3.10/dist-packages (from openai>=1.55.3->litellm) (0.8.0)\n",
            "Requirement already satisfied: tqdm>4 in /usr/local/lib/python3.10/dist-packages (from openai>=1.55.3->litellm) (4.66.6)\n",
            "Requirement already satisfied: typing-extensions<5,>=4.11 in /usr/local/lib/python3.10/dist-packages (from openai>=1.55.3->litellm) (4.12.2)\n",
            "Requirement already satisfied: annotated-types>=0.6.0 in /usr/local/lib/python3.10/dist-packages (from pydantic<3.0.0,>=2.0.0->litellm) (0.7.0)\n",
            "Requirement already satisfied: pydantic-core==2.27.1 in /usr/local/lib/python3.10/dist-packages (from pydantic<3.0.0,>=2.0.0->litellm) (2.27.1)\n",
            "Requirement already satisfied: charset-normalizer<4,>=2 in /usr/local/lib/python3.10/dist-packages (from requests<3.0.0,>=2.31.0->litellm) (3.4.0)\n",
            "Requirement already satisfied: urllib3<3,>=1.21.1 in /usr/local/lib/python3.10/dist-packages (from requests<3.0.0,>=2.31.0->litellm) (2.2.3)\n",
            "Requirement already satisfied: regex>=2022.1.18 in /usr/local/lib/python3.10/dist-packages (from tiktoken>=0.7.0->litellm) (2024.9.11)\n",
            "Requirement already satisfied: aiohappyeyeballs>=2.3.0 in /usr/local/lib/python3.10/dist-packages (from aiohttp->litellm) (2.4.4)\n",
            "Requirement already satisfied: aiosignal>=1.1.2 in /usr/local/lib/python3.10/dist-packages (from aiohttp->litellm) (1.3.1)\n",
            "Requirement already satisfied: async-timeout<6.0,>=4.0 in /usr/local/lib/python3.10/dist-packages (from aiohttp->litellm) (4.0.3)\n",
            "Requirement already satisfied: frozenlist>=1.1.1 in /usr/local/lib/python3.10/dist-packages (from aiohttp->litellm) (1.5.0)\n",
            "Requirement already satisfied: multidict<7.0,>=4.5 in /usr/local/lib/python3.10/dist-packages (from aiohttp->litellm) (6.1.0)\n",
            "Requirement already satisfied: propcache>=0.2.0 in /usr/local/lib/python3.10/dist-packages (from aiohttp->litellm) (0.2.1)\n",
            "Requirement already satisfied: yarl<2.0,>=1.17.0 in /usr/local/lib/python3.10/dist-packages (from aiohttp->litellm) (1.18.3)\n",
            "Requirement already satisfied: huggingface-hub<1.0,>=0.16.4 in /usr/local/lib/python3.10/dist-packages (from tokenizers->litellm) (0.26.3)\n",
            "Requirement already satisfied: exceptiongroup in /usr/local/lib/python3.10/dist-packages (from anyio->httpx<0.28.0,>=0.23.0->litellm) (1.2.2)\n",
            "Requirement already satisfied: filelock in /usr/local/lib/python3.10/dist-packages (from huggingface-hub<1.0,>=0.16.4->tokenizers->litellm) (3.16.1)\n",
            "Requirement already satisfied: fsspec>=2023.5.0 in /usr/local/lib/python3.10/dist-packages (from huggingface-hub<1.0,>=0.16.4->tokenizers->litellm) (2024.10.0)\n",
            "Requirement already satisfied: packaging>=20.9 in /usr/local/lib/python3.10/dist-packages (from huggingface-hub<1.0,>=0.16.4->tokenizers->litellm) (24.2)\n",
            "Requirement already satisfied: pyyaml>=5.1 in /usr/local/lib/python3.10/dist-packages (from huggingface-hub<1.0,>=0.16.4->tokenizers->litellm) (6.0.2)\n"
          ]
        }
      ]
    },
    {
      "cell_type": "code",
      "source": [
        "!pip install instructor"
      ],
      "metadata": {
        "colab": {
          "base_uri": "https://localhost:8080/"
        },
        "id": "UoFZy4OZEvpT",
        "outputId": "af020fff-25f6-4c9f-d865-08dcdc0ec41f"
      },
      "id": "UoFZy4OZEvpT",
      "execution_count": 86,
      "outputs": [
        {
          "output_type": "stream",
          "name": "stdout",
          "text": [
            "Collecting instructor\n",
            "  Downloading instructor-1.7.0-py3-none-any.whl.metadata (17 kB)\n",
            "Requirement already satisfied: aiohttp<4.0.0,>=3.9.1 in /usr/local/lib/python3.10/dist-packages (from instructor) (3.11.9)\n",
            "Requirement already satisfied: docstring-parser<0.17,>=0.16 in /usr/local/lib/python3.10/dist-packages (from instructor) (0.16)\n",
            "Requirement already satisfied: jinja2<4.0.0,>=3.1.4 in /usr/local/lib/python3.10/dist-packages (from instructor) (3.1.4)\n",
            "Collecting jiter<0.7,>=0.6.1 (from instructor)\n",
            "  Downloading jiter-0.6.1-cp310-cp310-manylinux_2_17_x86_64.manylinux2014_x86_64.whl.metadata (5.2 kB)\n",
            "Requirement already satisfied: openai<2.0.0,>=1.52.0 in /usr/local/lib/python3.10/dist-packages (from instructor) (1.57.2)\n",
            "Requirement already satisfied: pydantic<3.0.0,>=2.8.0 in /usr/local/lib/python3.10/dist-packages (from instructor) (2.10.3)\n",
            "Requirement already satisfied: pydantic-core<3.0.0,>=2.18.0 in /usr/local/lib/python3.10/dist-packages (from instructor) (2.27.1)\n",
            "Requirement already satisfied: requests<3.0.0,>=2.32.3 in /usr/local/lib/python3.10/dist-packages (from instructor) (2.32.3)\n",
            "Requirement already satisfied: rich<14.0.0,>=13.7.0 in /usr/local/lib/python3.10/dist-packages (from instructor) (13.9.4)\n",
            "Requirement already satisfied: tenacity<10.0.0,>=9.0.0 in /usr/local/lib/python3.10/dist-packages (from instructor) (9.0.0)\n",
            "Requirement already satisfied: typer<1.0.0,>=0.9.0 in /usr/local/lib/python3.10/dist-packages (from instructor) (0.15.0)\n",
            "Requirement already satisfied: aiohappyeyeballs>=2.3.0 in /usr/local/lib/python3.10/dist-packages (from aiohttp<4.0.0,>=3.9.1->instructor) (2.4.4)\n",
            "Requirement already satisfied: aiosignal>=1.1.2 in /usr/local/lib/python3.10/dist-packages (from aiohttp<4.0.0,>=3.9.1->instructor) (1.3.1)\n",
            "Requirement already satisfied: async-timeout<6.0,>=4.0 in /usr/local/lib/python3.10/dist-packages (from aiohttp<4.0.0,>=3.9.1->instructor) (4.0.3)\n",
            "Requirement already satisfied: attrs>=17.3.0 in /usr/local/lib/python3.10/dist-packages (from aiohttp<4.0.0,>=3.9.1->instructor) (24.2.0)\n",
            "Requirement already satisfied: frozenlist>=1.1.1 in /usr/local/lib/python3.10/dist-packages (from aiohttp<4.0.0,>=3.9.1->instructor) (1.5.0)\n",
            "Requirement already satisfied: multidict<7.0,>=4.5 in /usr/local/lib/python3.10/dist-packages (from aiohttp<4.0.0,>=3.9.1->instructor) (6.1.0)\n",
            "Requirement already satisfied: propcache>=0.2.0 in /usr/local/lib/python3.10/dist-packages (from aiohttp<4.0.0,>=3.9.1->instructor) (0.2.1)\n",
            "Requirement already satisfied: yarl<2.0,>=1.17.0 in /usr/local/lib/python3.10/dist-packages (from aiohttp<4.0.0,>=3.9.1->instructor) (1.18.3)\n",
            "Requirement already satisfied: MarkupSafe>=2.0 in /usr/local/lib/python3.10/dist-packages (from jinja2<4.0.0,>=3.1.4->instructor) (3.0.2)\n",
            "Requirement already satisfied: anyio<5,>=3.5.0 in /usr/local/lib/python3.10/dist-packages (from openai<2.0.0,>=1.52.0->instructor) (3.7.1)\n",
            "Requirement already satisfied: distro<2,>=1.7.0 in /usr/local/lib/python3.10/dist-packages (from openai<2.0.0,>=1.52.0->instructor) (1.9.0)\n",
            "Requirement already satisfied: httpx<1,>=0.23.0 in /usr/local/lib/python3.10/dist-packages (from openai<2.0.0,>=1.52.0->instructor) (0.27.0)\n",
            "Requirement already satisfied: sniffio in /usr/local/lib/python3.10/dist-packages (from openai<2.0.0,>=1.52.0->instructor) (1.3.1)\n",
            "Requirement already satisfied: tqdm>4 in /usr/local/lib/python3.10/dist-packages (from openai<2.0.0,>=1.52.0->instructor) (4.66.6)\n",
            "Requirement already satisfied: typing-extensions<5,>=4.11 in /usr/local/lib/python3.10/dist-packages (from openai<2.0.0,>=1.52.0->instructor) (4.12.2)\n",
            "Requirement already satisfied: annotated-types>=0.6.0 in /usr/local/lib/python3.10/dist-packages (from pydantic<3.0.0,>=2.8.0->instructor) (0.7.0)\n",
            "Requirement already satisfied: charset-normalizer<4,>=2 in /usr/local/lib/python3.10/dist-packages (from requests<3.0.0,>=2.32.3->instructor) (3.4.0)\n",
            "Requirement already satisfied: idna<4,>=2.5 in /usr/local/lib/python3.10/dist-packages (from requests<3.0.0,>=2.32.3->instructor) (3.10)\n",
            "Requirement already satisfied: urllib3<3,>=1.21.1 in /usr/local/lib/python3.10/dist-packages (from requests<3.0.0,>=2.32.3->instructor) (2.2.3)\n",
            "Requirement already satisfied: certifi>=2017.4.17 in /usr/local/lib/python3.10/dist-packages (from requests<3.0.0,>=2.32.3->instructor) (2024.8.30)\n",
            "Requirement already satisfied: markdown-it-py>=2.2.0 in /usr/local/lib/python3.10/dist-packages (from rich<14.0.0,>=13.7.0->instructor) (3.0.0)\n",
            "Requirement already satisfied: pygments<3.0.0,>=2.13.0 in /usr/local/lib/python3.10/dist-packages (from rich<14.0.0,>=13.7.0->instructor) (2.18.0)\n",
            "Requirement already satisfied: click>=8.0.0 in /usr/local/lib/python3.10/dist-packages (from typer<1.0.0,>=0.9.0->instructor) (8.1.7)\n",
            "Requirement already satisfied: shellingham>=1.3.0 in /usr/local/lib/python3.10/dist-packages (from typer<1.0.0,>=0.9.0->instructor) (1.5.4)\n",
            "Requirement already satisfied: exceptiongroup in /usr/local/lib/python3.10/dist-packages (from anyio<5,>=3.5.0->openai<2.0.0,>=1.52.0->instructor) (1.2.2)\n",
            "Requirement already satisfied: httpcore==1.* in /usr/local/lib/python3.10/dist-packages (from httpx<1,>=0.23.0->openai<2.0.0,>=1.52.0->instructor) (1.0.7)\n",
            "Requirement already satisfied: h11<0.15,>=0.13 in /usr/local/lib/python3.10/dist-packages (from httpcore==1.*->httpx<1,>=0.23.0->openai<2.0.0,>=1.52.0->instructor) (0.14.0)\n",
            "Requirement already satisfied: mdurl~=0.1 in /usr/local/lib/python3.10/dist-packages (from markdown-it-py>=2.2.0->rich<14.0.0,>=13.7.0->instructor) (0.1.2)\n",
            "Downloading instructor-1.7.0-py3-none-any.whl (70 kB)\n",
            "\u001b[2K   \u001b[90m━━━━━━━━━━━━━━━━━━━━━━━━━━━━━━━━━━━━━━━━\u001b[0m \u001b[32m70.1/70.1 kB\u001b[0m \u001b[31m2.0 MB/s\u001b[0m eta \u001b[36m0:00:00\u001b[0m\n",
            "\u001b[?25hDownloading jiter-0.6.1-cp310-cp310-manylinux_2_17_x86_64.manylinux2014_x86_64.whl (325 kB)\n",
            "\u001b[2K   \u001b[90m━━━━━━━━━━━━━━━━━━━━━━━━━━━━━━━━━━━━━━━━\u001b[0m \u001b[32m325.2/325.2 kB\u001b[0m \u001b[31m8.6 MB/s\u001b[0m eta \u001b[36m0:00:00\u001b[0m\n",
            "\u001b[?25hInstalling collected packages: jiter, instructor\n",
            "  Attempting uninstall: jiter\n",
            "    Found existing installation: jiter 0.8.0\n",
            "    Uninstalling jiter-0.8.0:\n",
            "      Successfully uninstalled jiter-0.8.0\n",
            "Successfully installed instructor-1.7.0 jiter-0.6.1\n"
          ]
        }
      ]
    },
    {
      "cell_type": "code",
      "execution_count": 93,
      "id": "aa6a6f95-91c6-4a08-a3a0-2aafc2d56b77",
      "metadata": {
        "id": "aa6a6f95-91c6-4a08-a3a0-2aafc2d56b77"
      },
      "outputs": [],
      "source": [
        "#standard library imports\n",
        "import sys\n",
        "sys.path.append('../')\n",
        "\n",
        "from typing import Any\n",
        "import time\n",
        "import os\n",
        "\n",
        "# utilities\n",
        "from tqdm import tqdm\n",
        "from rich import print\n",
        "from dotenv import load_dotenv, find_dotenv\n",
        "env = load_dotenv(find_dotenv(), override=True)"
      ]
    },
    {
      "cell_type": "markdown",
      "id": "5e4522b4-5248-4936-af87-b0a2220bdb6d",
      "metadata": {
        "id": "5e4522b4-5248-4936-af87-b0a2220bdb6d"
      },
      "source": [
        "# Assignment 1.3\n",
        "***\n",
        "#### Instructions:\n",
        "* Import the `/data/golden_datasets/golden_256.json` dataset using the `load_json` method of the FileIO Class\n",
        "* Instantiate a new WeaviateWCS client (Retriever) and set the `collection_name` of the Collection that you created in Notebook 2\n",
        "* Evaluate your retriever results using the `retrieval_evaluation` function\n",
        "* Submit your results in the form of a text file to Uplimit (the function autogenerates a report in the `dir_outpath` directory)."
      ]
    },
    {
      "cell_type": "code",
      "source": [
        "from google.colab import userdata\n",
        "from src.database.weaviate_interface_v4 import WeaviateWCS\n",
        "\n",
        "\n",
        "api_key = userdata.get('WEAVIATE_API_KEY')\n",
        "url = userdata.get('WEAVIATE_ENDPOINT')\n",
        "model_path = 'sentence-transformers/all-MiniLM-L6-v2'\n",
        "\n",
        "# Check if the environment variables are set and raise an error if not\n",
        "if api_key is None or url is None:\n",
        "    raise ValueError(\"WEAVIATE_API_KEY and WEAVIATE_ENDPOINT must be set in your .env file\")\n",
        "\n",
        "\n",
        "#instantiate client\n",
        "retriever = WeaviateWCS(endpoint=url, api_key=api_key, model_name_or_path=model_path)\n",
        "\n",
        "#example of using the private _client attribute\n",
        "retriever._client.is_connected()"
      ],
      "metadata": {
        "colab": {
          "base_uri": "https://localhost:8080/"
        },
        "id": "K9hzrWJ1T0_Z",
        "outputId": "8fff41d2-79e2-47c1-85f1-fa7faf7a4ade"
      },
      "id": "K9hzrWJ1T0_Z",
      "execution_count": 92,
      "outputs": [
        {
          "output_type": "execute_result",
          "data": {
            "text/plain": [
              "True"
            ]
          },
          "metadata": {},
          "execution_count": 92
        }
      ]
    },
    {
      "cell_type": "code",
      "execution_count": 142,
      "id": "c9968b62-3814-40b9-bb2a-8c76968825c0",
      "metadata": {
        "colab": {
          "base_uri": "https://localhost:8080/",
          "height": 149
        },
        "id": "c9968b62-3814-40b9-bb2a-8c76968825c0",
        "outputId": "c1ada476-597a-4f4a-ce22-d9da0b3d1c70"
      },
      "outputs": [
        {
          "output_type": "display_data",
          "data": {
            "text/plain": [
              "Permissions for \u001b[32m'/content/golden256.txt'\u001b[0m: \u001b[1;36m755\u001b[0m\n"
            ],
            "text/html": [
              "<pre style=\"white-space:pre;overflow-x:auto;line-height:normal;font-family:Menlo,'DejaVu Sans Mono',consolas,'Courier New',monospace\">Permissions for <span style=\"color: #008000; text-decoration-color: #008000\">'/content/golden256.txt'</span>: <span style=\"color: #008080; text-decoration-color: #008080; font-weight: bold\">755</span>\n",
              "</pre>\n"
            ]
          },
          "metadata": {}
        },
        {
          "output_type": "display_data",
          "data": {
            "text/plain": [
              "Permissions for \u001b[32m'/content/golden256.txt'\u001b[0m set to \u001b[1;36m755\u001b[0m\n"
            ],
            "text/html": [
              "<pre style=\"white-space:pre;overflow-x:auto;line-height:normal;font-family:Menlo,'DejaVu Sans Mono',consolas,'Courier New',monospace\">Permissions for <span style=\"color: #008000; text-decoration-color: #008000\">'/content/golden256.txt'</span> set to <span style=\"color: #008080; text-decoration-color: #008080; font-weight: bold\">755</span>\n",
              "</pre>\n"
            ]
          },
          "metadata": {}
        },
        {
          "output_type": "display_data",
          "data": {
            "text/plain": [
              "Permissions for \u001b[32m'/content/golden256.txt'\u001b[0m: \u001b[1;36m755\u001b[0m\n"
            ],
            "text/html": [
              "<pre style=\"white-space:pre;overflow-x:auto;line-height:normal;font-family:Menlo,'DejaVu Sans Mono',consolas,'Courier New',monospace\">Permissions for <span style=\"color: #008000; text-decoration-color: #008000\">'/content/golden256.txt'</span>: <span style=\"color: #008080; text-decoration-color: #008080; font-weight: bold\">755</span>\n",
              "</pre>\n"
            ]
          },
          "metadata": {}
        },
        {
          "output_type": "display_data",
          "data": {
            "text/plain": [
              "cwd \u001b[35m/\u001b[0m\u001b[95mcontent\u001b[0m\n"
            ],
            "text/html": [
              "<pre style=\"white-space:pre;overflow-x:auto;line-height:normal;font-family:Menlo,'DejaVu Sans Mono',consolas,'Courier New',monospace\">cwd <span style=\"color: #800080; text-decoration-color: #800080\">/</span><span style=\"color: #ff00ff; text-decoration-color: #ff00ff\">content</span>\n",
              "</pre>\n"
            ]
          },
          "metadata": {}
        },
        {
          "output_type": "display_data",
          "data": {
            "text/plain": [
              "all_collections\n",
              "\u001b[1m[\u001b[0m\u001b[32m'Huberman_minilm_256'\u001b[0m\u001b[1m]\u001b[0m\n"
            ],
            "text/html": [
              "<pre style=\"white-space:pre;overflow-x:auto;line-height:normal;font-family:Menlo,'DejaVu Sans Mono',consolas,'Courier New',monospace\">all_collections\n",
              "<span style=\"font-weight: bold\">[</span><span style=\"color: #008000; text-decoration-color: #008000\">'Huberman_minilm_256'</span><span style=\"font-weight: bold\">]</span>\n",
              "</pre>\n"
            ]
          },
          "metadata": {}
        },
        {
          "output_type": "display_data",
          "data": {
            "text/plain": [
              "len \u001b[1;36m4\u001b[0m\n"
            ],
            "text/html": [
              "<pre style=\"white-space:pre;overflow-x:auto;line-height:normal;font-family:Menlo,'DejaVu Sans Mono',consolas,'Courier New',monospace\">len <span style=\"color: #008080; text-decoration-color: #008080; font-weight: bold\">4</span>\n",
              "</pre>\n"
            ]
          },
          "metadata": {}
        },
        {
          "output_type": "display_data",
          "data": {
            "text/plain": [
              "Num queries in Golden Dataset: \u001b[1;36m100\u001b[0m\n"
            ],
            "text/html": [
              "<pre style=\"white-space:pre;overflow-x:auto;line-height:normal;font-family:Menlo,'DejaVu Sans Mono',consolas,'Courier New',monospace\">Num queries in Golden Dataset: <span style=\"color: #008080; text-decoration-color: #008080; font-weight: bold\">100</span>\n",
              "</pre>\n"
            ]
          },
          "metadata": {}
        }
      ],
      "source": [
        "from src.database.weaviate_interface_v4 import WeaviateWCS\n",
        "from src.preprocessor.preprocessing import FileIO\n",
        "import json\n",
        "import pandas as pd\n",
        "import os\n",
        "\n",
        "sys.path.append('../')\n",
        "\n",
        "data_path = '/golden256.txt' #../data/golden_datasets/\n",
        "\n",
        "#################\n",
        "##  START CODE ##\n",
        "#################\n",
        "\n",
        "def check_permissions(path):\n",
        "    \"\"\"Checks and prints file permissions for a given path.\"\"\"\n",
        "\n",
        "    if os.path.exists(path):\n",
        "        permissions = oct(os.stat(path).st_mode)[-3:]  # Get last 3 digits for permissions\n",
        "        print(f\"Permissions for '{path}': {permissions}\")\n",
        "    else:\n",
        "        print(f\"Path '{path}' does not exist.\")\n",
        "def set_permissions(path, mode):\n",
        "    \"\"\"Sets file permissions for a given path.\"\"\"\n",
        "\n",
        "    try:\n",
        "        os.chmod(path, mode)\n",
        "        print(f\"Permissions for '{path}' set to {oct(mode)[-3:]}\")\n",
        "    except OSError as e:\n",
        "        print(f\"Error setting permissions for '{path}': {e}\")\n",
        "\n",
        "\n",
        "### Load QA dataset\n",
        "check_permissions(os.getcwd()+data_path)\n",
        "\n",
        "\n",
        "# Example usage:\n",
        "file_path = os.getcwd()+data_path\n",
        "permissions = 0o755  # Octal representation of 755\n",
        "\n",
        "set_permissions(file_path, permissions)\n",
        "\n",
        "check_permissions(os.getcwd()+data_path)\n",
        "print(\"cwd\",os.getcwd())\n",
        "\n",
        "\n",
        "\n",
        "\n",
        "#golden_dataset = FileIO().load_json(data_path)\n",
        "io = FileIO()\n",
        "with open(os.getcwd()+data_path, 'r') as f:\n",
        "    file_content = f.read()\n",
        "    golden_dataset = json.loads(file_content)\n",
        "\n",
        "### Instantiate Weaviate client and set Collection name\n",
        "all_collections = retriever.show_all_collections()\n",
        "print(\"all_collections\",all_collections)\n",
        "collection_name = None\n",
        "\n",
        "\n",
        "#################\n",
        "##  END CODE   ##\n",
        "#################\n",
        "print(\"len\",len(golden_dataset))\n",
        "# should see 100 queries\n",
        "print(f'Num queries in Golden Dataset: {len(golden_dataset[\"queries\"])}')"
      ]
    },
    {
      "cell_type": "markdown",
      "id": "946e13a3-9350-40d9-8bfe-0cd37f2ade2f",
      "metadata": {
        "id": "946e13a3-9350-40d9-8bfe-0cd37f2ade2f"
      },
      "source": [
        "# Project 1: Retrieval Evaluation"
      ]
    },
    {
      "cell_type": "code",
      "execution_count": 95,
      "id": "255bdabd-770e-4b12-8bd8-54e5cdc64f77",
      "metadata": {
        "id": "255bdabd-770e-4b12-8bd8-54e5cdc64f77"
      },
      "outputs": [],
      "source": [
        "from src.evaluation.retrieval_evaluation import calc_hit_rate_scores, calc_mrr_scores, record_results\n",
        "from src.database.weaviate_interface_v4 import WeaviateWCS\n",
        "def retrieval_evaluation(dataset: dict,\n",
        "                         collection_name: str,\n",
        "                         retriever: WeaviateWCS,\n",
        "                         retrieve_limit: int=5,\n",
        "                         chunk_size: int=256,\n",
        "                         query_properties: list[str]=['content'],\n",
        "                         return_properties: list[str]=['doc_id', 'content'],\n",
        "                         dir_outpath: str='./eval_results',\n",
        "                         include_miss_info: bool=False\n",
        "                         ) -> dict[str, str|int|float]:\n",
        "    '''\n",
        "    Given a dataset and a retriever evaluate the performance of the retriever. Returns a dict of kw and vector\n",
        "    hit rates and mrr scores. If inlude_miss_info is True, will also return a list of kw and vector responses\n",
        "    and their associated queries that did not return a hit, for deeper analysis. Text file with results output\n",
        "    is automatically saved in the dir_outpath directory.\n",
        "\n",
        "    Args:\n",
        "    -----\n",
        "    dataset: dict\n",
        "        Dataset to be used for evaluation\n",
        "    collection_name: str\n",
        "        Name of Collection on Weaviate host to be used for retrieval\n",
        "    retriever: WeaviateWCS\n",
        "        WeaviateWCS object to be used for retrieval\n",
        "    retrieve_limit: int=5\n",
        "        Number of documents to retrieve from Weaviate host, increasing this value too high\n",
        "        will artificially inflate the hit rate score of your retriever.\n",
        "    chunk_size: int=256\n",
        "        Number of tokens used to chunk text. This value is purely for results\n",
        "        recording purposes and does not affect results.\n",
        "    query_properties: list[str] = ['content']\n",
        "        List of properties over which keyword search will query.  Can add multiple properties\n",
        "        to this list.\n",
        "    return_properties: list[str]=['doc_id', 'content']\n",
        "        list of properties to be returned from Weaviate host for display in response\n",
        "    dir_outpath: str='./eval_results'\n",
        "        Directory path for saving results.  Directory will be created if it does not\n",
        "        already exist.\n",
        "    include_miss_info: bool=False\n",
        "        Option to include queries and their associated kw and vector response values\n",
        "        for queries that are \"total misses\"\n",
        "    '''\n",
        "\n",
        "    results_dict = {'n':retrieve_limit,\n",
        "                    'Retriever': retriever.model_name_or_path,\n",
        "                    'chunk_size': chunk_size,\n",
        "                    'query_props': query_properties,\n",
        "                    'kw_raw_hits': 0,\n",
        "                    'vector_raw_hits': 0,\n",
        "                    'kw_mrr': 0,\n",
        "                    'vector_mrr': 0,\n",
        "                    'total_misses': 0,\n",
        "                    'total_questions':0\n",
        "                    }\n",
        "\n",
        "    start = time.perf_counter()\n",
        "    miss_info = []\n",
        "    for query_id, q in tqdm(dataset['queries'].items(), 'Queries'):\n",
        "        results_dict['total_questions'] += 1\n",
        "        hit = False\n",
        "\n",
        "        try:\n",
        "            kw_response = retriever.keyword_search(request=q, collection_name=collection_name, query_properties=query_properties,\n",
        "                                                   limit=retrieve_limit, return_properties=return_properties)\n",
        "            vector_response = retriever.vector_search(request=q, collection_name=collection_name,\n",
        "                                                   limit=retrieve_limit, return_properties=return_properties)\n",
        "\n",
        "            #collect doc_ids and position of doc_ids to check for document matches\n",
        "            kw_doc_ids = {result['doc_id']:i for i, result in enumerate(kw_response, 1)}\n",
        "            vector_doc_ids = {result['doc_id']:i for i, result in enumerate(vector_response, 1)}\n",
        "\n",
        "            #extract doc_id for scoring purposes\n",
        "            doc_id = dataset['relevant_docs'][query_id]\n",
        "\n",
        "            #increment hit_rate counters and mrr scores\n",
        "            if doc_id in kw_doc_ids:\n",
        "                results_dict['kw_raw_hits'] += 1\n",
        "                results_dict['kw_mrr'] += 1/kw_doc_ids[doc_id]\n",
        "                hit = True\n",
        "            if doc_id in vector_doc_ids:\n",
        "                results_dict['vector_raw_hits'] += 1\n",
        "                results_dict['vector_mrr'] += 1/vector_doc_ids[doc_id]\n",
        "                hit = True\n",
        "\n",
        "            # if no hits, let's capture that\n",
        "            if not hit:\n",
        "                results_dict['total_misses'] += 1\n",
        "                miss_info.append({'query': q, 'kw_response': kw_response, 'vector_response': vector_response})\n",
        "        except Exception as e:\n",
        "            print(f'Error due to {e}')\n",
        "            continue\n",
        "\n",
        "    #use raw counts to calculate final scores\n",
        "    calc_hit_rate_scores(results_dict, search_type=['kw', 'vector'])\n",
        "    calc_mrr_scores(results_dict, search_type=['kw', 'vector'])\n",
        "\n",
        "    end = time.perf_counter() - start\n",
        "    print(f'Total Processing Time: {round(end/60, 2)} minutes')\n",
        "    record_results(results_dict, chunk_size, dir_outpath=dir_outpath)\n",
        "\n",
        "    if include_miss_info:\n",
        "        return results_dict, miss_info\n",
        "    return results_dict"
      ]
    },
    {
      "cell_type": "markdown",
      "id": "1cd5ed71-d150-4312-9d41-0b43ae43bd72",
      "metadata": {
        "id": "1cd5ed71-d150-4312-9d41-0b43ae43bd72"
      },
      "source": [
        "### Run evaluation over golden dataset"
      ]
    },
    {
      "cell_type": "code",
      "execution_count": 148,
      "id": "d42568cd-d0e3-4640-8865-37b6dff80307",
      "metadata": {
        "colab": {
          "base_uri": "https://localhost:8080/",
          "height": 89
        },
        "id": "d42568cd-d0e3-4640-8865-37b6dff80307",
        "outputId": "31a7837e-cc94-4bf7-e761-2a152b65b59e"
      },
      "outputs": [
        {
          "output_type": "stream",
          "name": "stderr",
          "text": [
            "Queries: 100%|██████████| 100/100 [00:04<00:00, 21.95it/s]\n"
          ]
        },
        {
          "output_type": "display_data",
          "data": {
            "text/plain": [
              "Total Processing Time: \u001b[1;36m0.08\u001b[0m minutes\n"
            ],
            "text/html": [
              "<pre style=\"white-space:pre;overflow-x:auto;line-height:normal;font-family:Menlo,'DejaVu Sans Mono',consolas,'Courier New',monospace\">Total Processing Time: <span style=\"color: #008080; text-decoration-color: #008080; font-weight: bold\">0.08</span> minutes\n",
              "</pre>\n"
            ]
          },
          "metadata": {}
        },
        {
          "output_type": "stream",
          "name": "stderr",
          "text": [
            "2024-12-12 00:40:56.177 | INFO     | src.preprocessor.preprocessing:save_as_json:109 - Data saved as json file here: ./eval_results/retrieval_eval_256_2024-12-12-00-40-56.json\n"
          ]
        }
      ],
      "source": [
        "#################\n",
        "##  START CODE ##\n",
        "#################\n",
        "eval_results = retrieval_evaluation(golden_dataset, \"Huberman_minilm_256\", retriever)"
      ]
    },
    {
      "cell_type": "code",
      "execution_count": 149,
      "id": "7e6e8f78-8772-4115-bc3a-7ad40e07eaef",
      "metadata": {
        "colab": {
          "base_uri": "https://localhost:8080/",
          "height": 248
        },
        "id": "7e6e8f78-8772-4115-bc3a-7ad40e07eaef",
        "outputId": "6466395a-56d5-4e8d-a89a-0999512c0b51"
      },
      "outputs": [
        {
          "output_type": "display_data",
          "data": {
            "text/plain": [
              "\u001b[1m{\u001b[0m\n",
              "    \u001b[32m'n'\u001b[0m: \u001b[1;36m5\u001b[0m,\n",
              "    \u001b[32m'Retriever'\u001b[0m: \u001b[32m'sentence-transformers/all-MiniLM-L6-v2'\u001b[0m,\n",
              "    \u001b[32m'chunk_size'\u001b[0m: \u001b[1;36m256\u001b[0m,\n",
              "    \u001b[32m'query_props'\u001b[0m: \u001b[1m[\u001b[0m\u001b[32m'content'\u001b[0m\u001b[1m]\u001b[0m,\n",
              "    \u001b[32m'kw_raw_hits'\u001b[0m: \u001b[1;36m65\u001b[0m,\n",
              "    \u001b[32m'vector_raw_hits'\u001b[0m: \u001b[1;36m56\u001b[0m,\n",
              "    \u001b[32m'kw_mrr'\u001b[0m: \u001b[1;36m0.54\u001b[0m,\n",
              "    \u001b[32m'vector_mrr'\u001b[0m: \u001b[1;36m0.42\u001b[0m,\n",
              "    \u001b[32m'total_misses'\u001b[0m: \u001b[1;36m21\u001b[0m,\n",
              "    \u001b[32m'total_questions'\u001b[0m: \u001b[1;36m100\u001b[0m,\n",
              "    \u001b[32m'kw_hit_rate'\u001b[0m: \u001b[1;36m0.65\u001b[0m,\n",
              "    \u001b[32m'vector_hit_rate'\u001b[0m: \u001b[1;36m0.56\u001b[0m\n",
              "\u001b[1m}\u001b[0m\n"
            ],
            "text/html": [
              "<pre style=\"white-space:pre;overflow-x:auto;line-height:normal;font-family:Menlo,'DejaVu Sans Mono',consolas,'Courier New',monospace\"><span style=\"font-weight: bold\">{</span>\n",
              "    <span style=\"color: #008000; text-decoration-color: #008000\">'n'</span>: <span style=\"color: #008080; text-decoration-color: #008080; font-weight: bold\">5</span>,\n",
              "    <span style=\"color: #008000; text-decoration-color: #008000\">'Retriever'</span>: <span style=\"color: #008000; text-decoration-color: #008000\">'sentence-transformers/all-MiniLM-L6-v2'</span>,\n",
              "    <span style=\"color: #008000; text-decoration-color: #008000\">'chunk_size'</span>: <span style=\"color: #008080; text-decoration-color: #008080; font-weight: bold\">256</span>,\n",
              "    <span style=\"color: #008000; text-decoration-color: #008000\">'query_props'</span>: <span style=\"font-weight: bold\">[</span><span style=\"color: #008000; text-decoration-color: #008000\">'content'</span><span style=\"font-weight: bold\">]</span>,\n",
              "    <span style=\"color: #008000; text-decoration-color: #008000\">'kw_raw_hits'</span>: <span style=\"color: #008080; text-decoration-color: #008080; font-weight: bold\">65</span>,\n",
              "    <span style=\"color: #008000; text-decoration-color: #008000\">'vector_raw_hits'</span>: <span style=\"color: #008080; text-decoration-color: #008080; font-weight: bold\">56</span>,\n",
              "    <span style=\"color: #008000; text-decoration-color: #008000\">'kw_mrr'</span>: <span style=\"color: #008080; text-decoration-color: #008080; font-weight: bold\">0.54</span>,\n",
              "    <span style=\"color: #008000; text-decoration-color: #008000\">'vector_mrr'</span>: <span style=\"color: #008080; text-decoration-color: #008080; font-weight: bold\">0.42</span>,\n",
              "    <span style=\"color: #008000; text-decoration-color: #008000\">'total_misses'</span>: <span style=\"color: #008080; text-decoration-color: #008080; font-weight: bold\">21</span>,\n",
              "    <span style=\"color: #008000; text-decoration-color: #008000\">'total_questions'</span>: <span style=\"color: #008080; text-decoration-color: #008080; font-weight: bold\">100</span>,\n",
              "    <span style=\"color: #008000; text-decoration-color: #008000\">'kw_hit_rate'</span>: <span style=\"color: #008080; text-decoration-color: #008080; font-weight: bold\">0.65</span>,\n",
              "    <span style=\"color: #008000; text-decoration-color: #008000\">'vector_hit_rate'</span>: <span style=\"color: #008080; text-decoration-color: #008080; font-weight: bold\">0.56</span>\n",
              "<span style=\"font-weight: bold\">}</span>\n",
              "</pre>\n"
            ]
          },
          "metadata": {}
        }
      ],
      "source": [
        "print(eval_results)"
      ]
    },
    {
      "cell_type": "markdown",
      "id": "ce61ced7-e641-4365-a821-f1b78e03d5c9",
      "metadata": {
        "id": "ce61ced7-e641-4365-a821-f1b78e03d5c9"
      },
      "source": [
        "# Conclusion\n",
        "***\n",
        "\n",
        "We now have a way of measuring the performance of our retrieval system.  This will allow you to make tweaks/changes to the system and then be able to objectively tell whether or not the tweak/change improved or degraded its performance.  Here are a few things to consider going forward:  \n",
        "\n",
        "- Keep in mind what the ulitmate goal of the system is that you are building.  For this course, we are trying to retrieve the most relevant documents as possible that will effectively address a user query, assuming the information is found within the corpus.  This means that we don't need pages and pages of relevant results, we actually only need the top 3-5, just enough to allow our Reader (the OpenAI LLM) to answer the user query.  This is an important point to be thinking about as you are making changes to the retrieval system.\n",
        "- Feel free to set the `include_miss_info` param to `True`.  Doing so will return a list of both the keyword and vector responses that did not contain the relevant `doc_id` (a \"total_miss\" means the `doc_id` was not present in either the `kw_doc_ids` or the `vector_doc_ids`).  Take a look at the style of the queries being asked and compare them with the returned responses.  Why are those responses being returned?  Are they close to the intent of the query?\n",
        "- Last but not least, you are now free to make changes to your system to improve the `hit_rate` and `mrr` scores.  If it were me, I'd start with switching out to a more performant [embedding model](https://huggingface.co/spaces/mteb/leaderboard).  There will be more opportunities to pick up some low hanging fruit, but we'll have to wait until the following week when hybrid search and Rerankers are introduced.  Whatever you do though, don't change params for the `SentenceSplitter` that you use for chunking the corpus.  Due to the way the golden dataset is derived, it's unfortunately dependent on those original `SentenceSplitter` settings remaining the same across evaluations. That is, of course, unless you want to build out your own golden dataset...."
      ]
    },
    {
      "cell_type": "markdown",
      "id": "c48d63a1-b801-433b-b0db-3586e3b7bc59",
      "metadata": {
        "id": "c48d63a1-b801-433b-b0db-3586e3b7bc59"
      },
      "source": [
        "# *** OPTIONAL: Chunk Size Evaluation ***"
      ]
    },
    {
      "cell_type": "markdown",
      "id": "f49e54d0-09ed-4784-a945-df39057c3025",
      "metadata": {
        "id": "f49e54d0-09ed-4784-a945-df39057c3025"
      },
      "source": [
        "In our initial Notebook we created a dataset with a chunk size of 256.  In order to evaluat the impact that chunk size has on retrieval for both search methods, it's a useful exercise to execute the `retrieval_evaluation` function on datasets of multiple chunk sizes.  In order to accomplish that follow these simple steps:\n",
        "- Bust out the `create_dataset` function that you created in Assignment 1.4.  Create datasets of chunks lengths **128** and **512**.  **Ensure that you set the `chunk_overlap` param to zero for each run.  Golden datasets of corresponding chunks lengths have already been created for you in the `data/golden_datasets` directory.\n",
        "- Index those datasets on Weaviate ensuring that you stick to the standard naming convention as discussed in Notebook 2 i.e `\"Huberman_minilm_<chunk_size>\"`\n",
        "- Evaluate results using the chunk sizes as a parameter, see example code below:"
      ]
    },
    {
      "cell_type": "markdown",
      "id": "7aab3e31-de5b-4956-ab8f-d71d34c97d50",
      "metadata": {
        "id": "7aab3e31-de5b-4956-ab8f-d71d34c97d50"
      },
      "source": [
        "### Sample code for automated chunk_size evaluation"
      ]
    },
    {
      "cell_type": "code",
      "execution_count": 159,
      "id": "ab6e3e24-a296-4b69-93cf-d6c261c04ac6",
      "metadata": {
        "colab": {
          "base_uri": "https://localhost:8080/",
          "height": 398
        },
        "id": "ab6e3e24-a296-4b69-93cf-d6c261c04ac6",
        "outputId": "b002c605-8769-42ec-8e41-a5ee9cf52db9"
      },
      "outputs": [
        {
          "output_type": "display_data",
          "data": {
            "text/plain": [
              "Loading \u001b[35m/content/data/golden_datasets/\u001b[0m\u001b[95mgolden_128.txt\u001b[0m\n"
            ],
            "text/html": [
              "<pre style=\"white-space:pre;overflow-x:auto;line-height:normal;font-family:Menlo,'DejaVu Sans Mono',consolas,'Courier New',monospace\">Loading <span style=\"color: #800080; text-decoration-color: #800080\">/content/data/golden_datasets/</span><span style=\"color: #ff00ff; text-decoration-color: #ff00ff\">golden_128.txt</span>\n",
              "</pre>\n"
            ]
          },
          "metadata": {}
        },
        {
          "output_type": "display_data",
          "data": {
            "text/plain": [
              "file_content \u001b[1;36m404\u001b[0m: Not Found\n"
            ],
            "text/html": [
              "<pre style=\"white-space:pre;overflow-x:auto;line-height:normal;font-family:Menlo,'DejaVu Sans Mono',consolas,'Courier New',monospace\">file_content <span style=\"color: #008080; text-decoration-color: #008080; font-weight: bold\">404</span>: Not Found\n",
              "</pre>\n"
            ]
          },
          "metadata": {}
        },
        {
          "output_type": "error",
          "ename": "JSONDecodeError",
          "evalue": "Extra data: line 1 column 4 (char 3)",
          "traceback": [
            "\u001b[0;31m---------------------------------------------------------------------------\u001b[0m",
            "\u001b[0;31mJSONDecodeError\u001b[0m                           Traceback (most recent call last)",
            "\u001b[0;32m<ipython-input-159-664a1f4da15c>\u001b[0m in \u001b[0;36m<cell line: 2>\u001b[0;34m()\u001b[0m\n\u001b[1;32m      8\u001b[0m       \u001b[0mfile_content\u001b[0m \u001b[0;34m=\u001b[0m \u001b[0mf\u001b[0m\u001b[0;34m.\u001b[0m\u001b[0mread\u001b[0m\u001b[0;34m(\u001b[0m\u001b[0;34m)\u001b[0m\u001b[0;34m\u001b[0m\u001b[0;34m\u001b[0m\u001b[0m\n\u001b[1;32m      9\u001b[0m       \u001b[0mprint\u001b[0m\u001b[0;34m(\u001b[0m\u001b[0;34m\"file_content\"\u001b[0m\u001b[0;34m,\u001b[0m\u001b[0mfile_content\u001b[0m\u001b[0;34m)\u001b[0m\u001b[0;34m\u001b[0m\u001b[0;34m\u001b[0m\u001b[0m\n\u001b[0;32m---> 10\u001b[0;31m       \u001b[0mgolden_dataset\u001b[0m \u001b[0;34m=\u001b[0m \u001b[0mjson\u001b[0m\u001b[0;34m.\u001b[0m\u001b[0mloads\u001b[0m\u001b[0;34m(\u001b[0m\u001b[0mfile_content\u001b[0m\u001b[0;34m)\u001b[0m\u001b[0;34m\u001b[0m\u001b[0;34m\u001b[0m\u001b[0m\n\u001b[0m\u001b[1;32m     11\u001b[0m     \u001b[0;31m#golden_dataset = FileIO().load_json(os.getcwd()+data_path)\u001b[0m\u001b[0;34m\u001b[0m\u001b[0;34m\u001b[0m\u001b[0m\n\u001b[1;32m     12\u001b[0m \u001b[0;34m\u001b[0m\u001b[0m\n",
            "\u001b[0;32m/usr/lib/python3.10/json/__init__.py\u001b[0m in \u001b[0;36mloads\u001b[0;34m(s, cls, object_hook, parse_float, parse_int, parse_constant, object_pairs_hook, **kw)\u001b[0m\n\u001b[1;32m    344\u001b[0m             \u001b[0mparse_int\u001b[0m \u001b[0;32mis\u001b[0m \u001b[0;32mNone\u001b[0m \u001b[0;32mand\u001b[0m \u001b[0mparse_float\u001b[0m \u001b[0;32mis\u001b[0m \u001b[0;32mNone\u001b[0m \u001b[0;32mand\u001b[0m\u001b[0;34m\u001b[0m\u001b[0;34m\u001b[0m\u001b[0m\n\u001b[1;32m    345\u001b[0m             parse_constant is None and object_pairs_hook is None and not kw):\n\u001b[0;32m--> 346\u001b[0;31m         \u001b[0;32mreturn\u001b[0m \u001b[0m_default_decoder\u001b[0m\u001b[0;34m.\u001b[0m\u001b[0mdecode\u001b[0m\u001b[0;34m(\u001b[0m\u001b[0ms\u001b[0m\u001b[0;34m)\u001b[0m\u001b[0;34m\u001b[0m\u001b[0;34m\u001b[0m\u001b[0m\n\u001b[0m\u001b[1;32m    347\u001b[0m     \u001b[0;32mif\u001b[0m \u001b[0mcls\u001b[0m \u001b[0;32mis\u001b[0m \u001b[0;32mNone\u001b[0m\u001b[0;34m:\u001b[0m\u001b[0;34m\u001b[0m\u001b[0;34m\u001b[0m\u001b[0m\n\u001b[1;32m    348\u001b[0m         \u001b[0mcls\u001b[0m \u001b[0;34m=\u001b[0m \u001b[0mJSONDecoder\u001b[0m\u001b[0;34m\u001b[0m\u001b[0;34m\u001b[0m\u001b[0m\n",
            "\u001b[0;32m/usr/lib/python3.10/json/decoder.py\u001b[0m in \u001b[0;36mdecode\u001b[0;34m(self, s, _w)\u001b[0m\n\u001b[1;32m    338\u001b[0m         \u001b[0mend\u001b[0m \u001b[0;34m=\u001b[0m \u001b[0m_w\u001b[0m\u001b[0;34m(\u001b[0m\u001b[0ms\u001b[0m\u001b[0;34m,\u001b[0m \u001b[0mend\u001b[0m\u001b[0;34m)\u001b[0m\u001b[0;34m.\u001b[0m\u001b[0mend\u001b[0m\u001b[0;34m(\u001b[0m\u001b[0;34m)\u001b[0m\u001b[0;34m\u001b[0m\u001b[0;34m\u001b[0m\u001b[0m\n\u001b[1;32m    339\u001b[0m         \u001b[0;32mif\u001b[0m \u001b[0mend\u001b[0m \u001b[0;34m!=\u001b[0m \u001b[0mlen\u001b[0m\u001b[0;34m(\u001b[0m\u001b[0ms\u001b[0m\u001b[0;34m)\u001b[0m\u001b[0;34m:\u001b[0m\u001b[0;34m\u001b[0m\u001b[0;34m\u001b[0m\u001b[0m\n\u001b[0;32m--> 340\u001b[0;31m             \u001b[0;32mraise\u001b[0m \u001b[0mJSONDecodeError\u001b[0m\u001b[0;34m(\u001b[0m\u001b[0;34m\"Extra data\"\u001b[0m\u001b[0;34m,\u001b[0m \u001b[0ms\u001b[0m\u001b[0;34m,\u001b[0m \u001b[0mend\u001b[0m\u001b[0;34m)\u001b[0m\u001b[0;34m\u001b[0m\u001b[0;34m\u001b[0m\u001b[0m\n\u001b[0m\u001b[1;32m    341\u001b[0m         \u001b[0;32mreturn\u001b[0m \u001b[0mobj\u001b[0m\u001b[0;34m\u001b[0m\u001b[0;34m\u001b[0m\u001b[0m\n\u001b[1;32m    342\u001b[0m \u001b[0;34m\u001b[0m\u001b[0m\n",
            "\u001b[0;31mJSONDecodeError\u001b[0m: Extra data: line 1 column 4 (char 3)"
          ]
        }
      ],
      "source": [
        "all_results = []\n",
        "for size in [128, 256, 512]:\n",
        "\n",
        "    #load golden datasets\n",
        "    data_path = f'/data/golden_datasets/golden_{size}.txt'\n",
        "    print(f'Loading {os.getcwd()+data_path}')\n",
        "    with open(os.getcwd()+data_path, 'r') as f:\n",
        "      file_content = f.read()\n",
        "      print(\"file_content\",file_content)\n",
        "      golden_dataset = json.loads(file_content)\n",
        "    #golden_dataset = FileIO().load_json(os.getcwd()+data_path)\n",
        "\n",
        "    #assign collection name\n",
        "    collection_name = f'Huberman_minilm_{size}'\n",
        "    print(f'Running test on chunk size {size} on {collection_name} Collection')\n",
        "\n",
        "    #get results by chunk_size\n",
        "    results = retrieval_evaluation(golden_dataset, collection_name, retriever, query_properties=['content'], chunk_size=size)\n",
        "    all_results.append(results)"
      ]
    },
    {
      "cell_type": "code",
      "execution_count": null,
      "id": "58382e8b-8c53-4b22-989e-05fe18299ebd",
      "metadata": {
        "id": "58382e8b-8c53-4b22-989e-05fe18299ebd"
      },
      "outputs": [],
      "source": [
        "print(all_results)"
      ]
    }
  ],
  "metadata": {
    "kernelspec": {
      "display_name": "Python 3 (ipykernel)",
      "language": "python",
      "name": "python3"
    },
    "language_info": {
      "codemirror_mode": {
        "name": "ipython",
        "version": 3
      },
      "file_extension": ".py",
      "mimetype": "text/x-python",
      "name": "python",
      "nbconvert_exporter": "python",
      "pygments_lexer": "ipython3",
      "version": "3.10.15"
    },
    "colab": {
      "provenance": [],
      "include_colab_link": true
    }
  },
  "nbformat": 4,
  "nbformat_minor": 5
}